{
 "cells": [
  {
   "cell_type": "code",
   "execution_count": 1,
   "id": "64e1bc3e",
   "metadata": {},
   "outputs": [
    {
     "name": "stdout",
     "output_type": "stream",
     "text": [
      "BPM: 60.0\n",
      "Data saved to test_txt\\output_1.txt\n"
     ]
    }
   ],
   "source": [
    "from encoder_1 import encode\n",
    "\n",
    "midi_file = \"../data/k520.mid\"   # <<< replace with your MIDI file\n",
    "\n",
    "output_txt, bpm = encode(midi_file)"
   ]
  },
  {
   "cell_type": "code",
   "execution_count": 2,
   "id": "926681fd",
   "metadata": {},
   "outputs": [
    {
     "name": "stdout",
     "output_type": "stream",
     "text": [
      "Successfully decoded and saved MIDI as test_audio\\output_1.mid with bpm = 60.0\n"
     ]
    },
    {
     "data": {
      "text/plain": [
       "'test_audio\\\\output_1.mid'"
      ]
     },
     "execution_count": 2,
     "metadata": {},
     "output_type": "execute_result"
    }
   ],
   "source": [
    "from decoder import decode_to_midi\n",
    "\n",
    "decode_to_midi(output_txt,\n",
    "                bpm=bpm)"
   ]
  }
 ],
 "metadata": {
  "kernelspec": {
   "display_name": ".venv",
   "language": "python",
   "name": "python3"
  },
  "language_info": {
   "codemirror_mode": {
    "name": "ipython",
    "version": 3
   },
   "file_extension": ".py",
   "mimetype": "text/x-python",
   "name": "python",
   "nbconvert_exporter": "python",
   "pygments_lexer": "ipython3",
   "version": "3.10.5"
  }
 },
 "nbformat": 4,
 "nbformat_minor": 5
}
