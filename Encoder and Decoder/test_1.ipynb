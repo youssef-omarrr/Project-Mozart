{
 "cells": [
  {
   "cell_type": "markdown",
   "id": "c87ebebc",
   "metadata": {},
   "source": [
    "# Using `music21` to change a full score to dict"
   ]
  },
  {
   "cell_type": "markdown",
   "id": "3ea4ebc0",
   "metadata": {},
   "source": [
    "## Step 1. Helper: convert note → token"
   ]
  },
  {
   "cell_type": "code",
   "execution_count": null,
   "id": "bad82fe7",
   "metadata": {},
   "outputs": [],
   "source": [
    "from music21 import converter, note, chord  # Import music21 classes for parsing and handling notes/chords\n",
    "import json  # Import JSON for potential data serialization\n",
    "\n",
    "# Map music21 quarterLength values to symbolic duration strings\n",
    "dur_map = {\n",
    "    0.25: \"s\",   # sixteenth note\n",
    "    0.5:  \"e\",   # eighth note\n",
    "    1.0:  \"q\",   # quarter note\n",
    "    2.0:  \"h\",   # half note\n",
    "    4.0:  \"w\"    # whole note\n",
    "}\n",
    "\n",
    "def note_to_token(n):\n",
    "    \"\"\"Convert a music21 note or chord to a token string with duration\"\"\"\n",
    "    \n",
    "    # Map the note/chord duration to its symbolic representation\n",
    "    dur = dur_map.get(round(n.duration.quarterLength, 2), \n",
    "                        str(n.duration.quarterLength))  # fallback: use numeric duration\n",
    "    \n",
    "    if isinstance(n, note.Note):\n",
    "        # Single note: \"C4_q\"\n",
    "        return f\"{n.nameWithOctave}_{dur}\"\n",
    "    \n",
    "    elif isinstance(n, chord.Chord):\n",
    "        # Chord: join all pitch names with dots, e.g., \"C4.E4.G4_q\"\n",
    "        pitches = \".\".join(p.nameWithOctave for p in n.pitches)\n",
    "        return f\"{pitches}_{dur}\"\n",
    "    \n",
    "    return None  # Return None if input is neither Note nor Chord\n"
   ]
  },
  {
   "cell_type": "markdown",
   "id": "ae0d4421",
   "metadata": {},
   "source": [
    "## Step 2. Midi to text"
   ]
  },
  {
   "cell_type": "code",
   "execution_count": null,
   "id": "5b1c2470",
   "metadata": {},
   "outputs": [],
   "source": [
    "from GM_PROGRAMS import GM_PROGRAMS  # Import mapping of MIDI program numbers to instrument names\n",
    "\n",
    "def get_instrument_name(part, idx):\n",
    "    \"\"\"Determine the name of an instrument for a given music21 part\"\"\"\n",
    "    \n",
    "    instr = part.getInstrument(returnDefault=True)  # Get the instrument object, use default if none set\n",
    "\n",
    "    # Try using the part's explicit name\n",
    "    if instr.partName:\n",
    "        return instr.partName.strip()\n",
    "    \n",
    "    # Try using the instrument's general name\n",
    "    if instr.instrumentName:\n",
    "        return instr.instrumentName.strip()\n",
    "    \n",
    "    # Try using MIDI program number to get standard GM instrument name\n",
    "    if hasattr(instr, \"midiProgram\") and instr.midiProgram is not None:\n",
    "        return GM_PROGRAMS.get(instr.midiProgram, f\"Program_{instr.midiProgram}\")\n",
    "    \n",
    "    # Fallback: use generic track name based on index\n",
    "    return f\"Track_{idx+1}\"\n"
   ]
  },
  {
   "cell_type": "code",
   "execution_count": null,
   "id": "f64f4a04",
   "metadata": {},
   "outputs": [],
   "source": [
    "from mido import MidiFile  # Import mido for reading MIDI files\n",
    "\n",
    "def get_bpm_from_midi(midi_path):\n",
    "    \"\"\"\n",
    "    Reads the first 'set_tempo' message from a MIDI file and returns BPM.\n",
    "    Defaults to 120 BPM if no tempo message is found.\n",
    "    \"\"\"\n",
    "    mid = MidiFile(midi_path)  # Load the MIDI file\n",
    "    for track in mid.tracks:  # Iterate over all tracks\n",
    "        for msg in track:  # Iterate over messages in the track\n",
    "            if msg.type == 'set_tempo':  # Look for tempo messages\n",
    "                # mido stores tempo as microseconds per beat\n",
    "                tempo_us = msg.tempo\n",
    "                bpm = 60_000_000 / tempo_us  # Convert to beats per minute\n",
    "                return bpm\n",
    "    return 120  # Return default BPM if no tempo message found\n"
   ]
  },
  {
   "cell_type": "code",
   "execution_count": null,
   "id": "47c4f2be",
   "metadata": {},
   "outputs": [],
   "source": [
    "def midi_to_dict(midi_path):\n",
    "    \"\"\"\n",
    "    Convert a MIDI file into a dictionary mapping each instrument to a sequence of note/chord/rest tokens.\n",
    "    \"\"\"\n",
    "    \n",
    "    score = converter.parse(midi_path)  # Parse MIDI file into a music21 score\n",
    "    data = {}  # Dictionary to store instrument-token mapping\n",
    "\n",
    "    for i, part in enumerate(score.parts):  # Iterate over all parts (instruments)\n",
    "        \n",
    "        instr_name = get_instrument_name(part, i)  # Determine instrument name\n",
    "        tokens = []  # List to store tokenized notes/chords/rests\n",
    "        \n",
    "        for n in part.recurse().notesAndRests:  # Iterate over all notes and rests in the part\n",
    "            \n",
    "            if isinstance(n, note.Rest):\n",
    "                # Convert rest to token with duration\n",
    "                dur = dur_map.get(round(n.duration.quarterLength, 2), str(n.duration.quarterLength))\n",
    "                tokens.append(f\"Rest_{dur}\")\n",
    "            else:\n",
    "                # Convert note or chord to token\n",
    "                tokens.append(note_to_token(n))\n",
    "        \n",
    "        data[instr_name] = tokens  # Store token sequence under instrument name\n",
    "        \n",
    "    return data  # Return the dictionary\n"
   ]
  },
  {
   "cell_type": "markdown",
   "id": "879ce370",
   "metadata": {},
   "source": [
    "## Step 3. Save txt file"
   ]
  },
  {
   "cell_type": "code",
   "execution_count": 5,
   "id": "22171774",
   "metadata": {},
   "outputs": [],
   "source": [
    "def save_dict_to_txt(data, out_path=\"output.txt\"):\n",
    "    with open(out_path, \"w\", encoding=\"utf-8\") as f:\n",
    "        f.write(json.dumps(data, indent=2))"
   ]
  },
  {
   "cell_type": "markdown",
   "id": "e5bd1788",
   "metadata": {},
   "source": [
    "## TEST"
   ]
  },
  {
   "cell_type": "code",
   "execution_count": null,
   "id": "3d995323",
   "metadata": {},
   "outputs": [
    {
     "name": "stdout",
     "output_type": "stream",
     "text": [
      "Saved token dict to output_2.txt\n"
     ]
    }
   ],
   "source": [
    "midi_file = \"../data/k520.mid\"   # <<< replace with your MIDI file\n",
    "\n",
    "output_file = \"test_txt/output_2.txt\"\n",
    "\n",
    "result = midi_to_dict(midi_file)\n",
    "save_dict_to_txt(result, output_file)\n",
    "\n",
    "print(f\"Saved token dict to {output_file}\")"
   ]
  },
  {
   "cell_type": "code",
   "execution_count": null,
   "id": "eaeaf8e8",
   "metadata": {},
   "outputs": [
    {
     "name": "stdout",
     "output_type": "stream",
     "text": [
      "Successfully decoded and saved MIDI as test_outputs/my_music_2.mid with bpm = 60.0\n"
     ]
    },
    {
     "data": {
      "text/plain": [
       "'test_outputs/my_music_2.mid'"
      ]
     },
     "execution_count": 7,
     "metadata": {},
     "output_type": "execute_result"
    }
   ],
   "source": [
    "from decoder import decode_to_midi\n",
    "\n",
    "bpm = get_bpm_from_midi(midi_file)\n",
    "decode_to_midi(output_file, \"test_audio/my_music_2.mid\", bpm=bpm)"
   ]
  }
 ],
 "metadata": {
  "kernelspec": {
   "display_name": ".venv",
   "language": "python",
   "name": "python3"
  },
  "language_info": {
   "codemirror_mode": {
    "name": "ipython",
    "version": 3
   },
   "file_extension": ".py",
   "mimetype": "text/x-python",
   "name": "python",
   "nbconvert_exporter": "python",
   "pygments_lexer": "ipython3",
   "version": "3.10.5"
  }
 },
 "nbformat": 4,
 "nbformat_minor": 5
}
