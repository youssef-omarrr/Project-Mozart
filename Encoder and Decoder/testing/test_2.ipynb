{
 "cells": [
  {
   "cell_type": "code",
   "execution_count": null,
   "id": "04e096a9",
   "metadata": {},
   "outputs": [
    {
     "name": "stdout",
     "output_type": "stream",
     "text": [
      "Processing MIDI file: Piano Concerto n23 K488 1mov.mid\n",
      "Score title: None\n",
      "Part #1 -> 'Flute'\n",
      "  -> 1169 notes/rests converted to tokens\n",
      "Part #2 -> 'Clarinet'\n",
      "  -> 1062 notes/rests converted to tokens\n",
      "Part #3 -> 'Clarinet_2'\n",
      "  -> 740 notes/rests converted to tokens\n",
      "Part #4 -> 'Bassoon'\n",
      "  -> 1366 notes/rests converted to tokens\n",
      "Part #5 -> 'Bassoon_2'\n",
      "  -> 586 notes/rests converted to tokens\n",
      "Part #6 -> 'Horn'\n",
      "  -> 815 notes/rests converted to tokens\n",
      "Part #7 -> 'Piano'\n",
      "  -> 2598 notes/rests converted to tokens\n",
      "Part #8 -> 'Piano_2'\n",
      "  -> 1321 notes/rests converted to tokens\n",
      "Part #9 -> 'Piano_3'\n",
      "  -> 462 notes/rests converted to tokens\n",
      "Part #10 -> 'StringInstrument'\n",
      "  -> 1617 notes/rests converted to tokens\n",
      "Part #11 -> 'StringInstrument_2'\n",
      "  -> 1488 notes/rests converted to tokens\n",
      "Part #12 -> 'StringInstrument_3'\n",
      "  -> 1435 notes/rests converted to tokens\n",
      "Part #13 -> 'StringInstrument_4'\n",
      "  -> 1369 notes/rests converted to tokens\n",
      "Part #14 -> 'Contrabass'\n",
      "  -> 1371 notes/rests converted to tokens\n",
      "Total instruments detected: 14\n",
      "BPM: 122.0\n",
      "Data saved to test_txt\\output_16.txt\n"
     ]
    }
   ],
   "source": [
    "from encoders.encoder_2 import encode\n",
    "\n",
    "test_1 = \"../data/Piano Concerto n23 K488 1mov.mid\"\n",
    "output_txt, bpm = encode(test_1)"
   ]
  },
  {
   "cell_type": "code",
   "execution_count": null,
   "id": "dbb99723",
   "metadata": {},
   "outputs": [
    {
     "name": "stdout",
     "output_type": "stream",
     "text": [
      "Loading data from: test_txt\\output_16.txt\n",
      "Input data contains 14 instruments:\n",
      "  - Flute: 1169 tokens\n",
      "  - Clarinet: 1062 tokens\n",
      "  - Clarinet_2: 740 tokens\n",
      "  - Bassoon: 1366 tokens\n",
      "  - Bassoon_2: 586 tokens\n",
      "  - Horn: 815 tokens\n",
      "  - Piano: 2598 tokens\n",
      "  - Piano_2: 1321 tokens\n",
      "  - Piano_3: 462 tokens\n",
      "  - StringInstrument: 1617 tokens\n",
      "  - StringInstrument_2: 1488 tokens\n",
      "  - StringInstrument_3: 1435 tokens\n",
      "  - StringInstrument_4: 1369 tokens\n",
      "  - Contrabass: 1371 tokens\n",
      "Creating part for: Flute\n",
      "  -> Using instrument: Flute\n",
      "  -> Added 1169 notes/rests\n",
      "Creating part for: Clarinet\n",
      "  -> Using instrument: Clarinet\n",
      "  -> Added 1062 notes/rests\n",
      "Creating part for: Clarinet_2\n",
      "  -> Using instrument: Clarinet\n",
      "  -> Added 740 notes/rests\n",
      "Creating part for: Bassoon\n",
      "  -> Using instrument: Bassoon\n",
      "  -> Added 1366 notes/rests\n",
      "Creating part for: Bassoon_2\n",
      "  -> Using instrument: ElectricBass\n",
      "  -> Added 586 notes/rests\n",
      "Creating part for: Horn\n",
      "  -> Using instrument: Horn\n",
      "  -> Added 815 notes/rests\n",
      "Creating part for: Piano\n",
      "  -> Using instrument: Piano\n",
      "  -> Added 2598 notes/rests\n",
      "Creating part for: Piano_2\n",
      "  -> Using instrument: Piano\n",
      "  -> Added 1321 notes/rests\n",
      "Creating part for: Piano_3\n",
      "  -> Using instrument: Piano\n",
      "  -> Added 462 notes/rests\n",
      "Creating part for: StringInstrument\n",
      "  -> Using instrument: Instrument\n",
      "  -> Added 1617 notes/rests\n",
      "Creating part for: StringInstrument_2\n",
      "  -> Using instrument: Instrument\n",
      "  -> Added 1488 notes/rests\n",
      "Creating part for: StringInstrument_3\n",
      "  -> Using instrument: Instrument\n",
      "  -> Added 1435 notes/rests\n",
      "Creating part for: StringInstrument_4\n",
      "  -> Using instrument: Instrument\n",
      "  -> Added 1369 notes/rests\n",
      "Creating part for: Contrabass\n",
      "  -> Using instrument: Contrabass\n",
      "  -> Added 1371 notes/rests\n",
      "Score created with 14 parts\n",
      "Successfully decoded and saved MIDI as test_audio\\output_11.mid with bpm = 122.0\n"
     ]
    },
    {
     "data": {
      "text/plain": [
       "'test_audio\\\\output_11.mid'"
      ]
     },
     "execution_count": 6,
     "metadata": {},
     "output_type": "execute_result"
    }
   ],
   "source": [
    "from decoders.decoder_2 import decode_to_midi\n",
    "\n",
    "decode_to_midi(output_txt,\n",
    "                bpm=bpm)"
   ]
  },
  {
   "cell_type": "code",
   "execution_count": null,
   "id": "7938043f",
   "metadata": {},
   "outputs": [],
   "source": []
  }
 ],
 "metadata": {
  "kernelspec": {
   "display_name": ".venv",
   "language": "python",
   "name": "python3"
  },
  "language_info": {
   "name": "python",
   "version": "3.10.5"
  }
 },
 "nbformat": 4,
 "nbformat_minor": 5
}
