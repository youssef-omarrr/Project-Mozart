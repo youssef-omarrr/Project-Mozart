{
 "cells": [
  {
   "cell_type": "code",
   "execution_count": 1,
   "id": "171e61c1",
   "metadata": {},
   "outputs": [
    {
     "name": "stdout",
     "output_type": "stream",
     "text": [
      "Processing MIDI file: Piano Concerto n23 K488 3mov.mid\n",
      "-------------------------------------------------------\n",
      "Total instruments detected: 16\n",
      "BPM: 264.0\n",
      "Data saved to test_txt\\output_34.txt\n"
     ]
    }
   ],
   "source": [
    "from encoders.encoder_2 import encode\n",
    "\n",
    "test_1 = \"../data/Piano Concerto n23 K488 3mov.mid\"\n",
    "output_txt, bpm = encode(test_1)\n"
   ]
  },
  {
   "cell_type": "code",
   "execution_count": 2,
   "id": "41dd8e06",
   "metadata": {},
   "outputs": [
    {
     "name": "stdout",
     "output_type": "stream",
     "text": [
      "Loading data from: test_txt\\output_34.txt\n",
      "-------------------------------------------------------\n",
      "Input data contains 16 instruments:\n",
      "  - Flute: 1240 tokens\n",
      "  - Clarinet: 1333 tokens\n",
      "  - Clarinet_2: 716 tokens\n",
      "  - Bassoon: 1451 tokens\n",
      "  - Bassoon_2: 669 tokens\n",
      "  - Horn: 914 tokens\n",
      "  - Piano: 2781 tokens\n",
      "  - Piano_2: 2138 tokens\n",
      "  - Piano_3: 544 tokens\n",
      "  - StringInstrument: 1365 tokens\n",
      "  - StringInstrument_2: 1678 tokens\n",
      "  - StringInstrument_3: 1478 tokens\n",
      "  - StringInstrument_4: 1345 tokens\n",
      "  - Contrabass: 1309 tokens\n",
      "  - StringInstrument_5: 580 tokens\n",
      "  - StringInstrument_6: 580 tokens\n",
      "-------------------------------------------------------\n",
      "Score created with 16 parts\n",
      "-------------------------------------------------------\n",
      "Instrument program mapping used:\n",
      "  Flute: Program 73\n",
      "  Clarinet: Program 71\n",
      "  Clarinet_2: Program 71\n",
      "  Bassoon: Program 70\n",
      "  Bassoon_2: Program 32\n",
      "  Horn: Program 60\n",
      "  Piano: Program 0\n",
      "  Piano_2: Program 0\n",
      "  Piano_3: Program 0\n",
      "  StringInstrument: Program 0\n",
      "  StringInstrument_2: Program 0\n",
      "  StringInstrument_3: Program 0\n",
      "  StringInstrument_4: Program 0\n",
      "  Contrabass: Program 43\n",
      "  StringInstrument_5: Program 0\n",
      "  StringInstrument_6: Program 0\n",
      "-------------------------------------------------------\n",
      "Successfully decoded and saved audio as test_audio\\output_9.wav with bpm = 264.0\n"
     ]
    },
    {
     "data": {
      "text/plain": [
       "'test_audio\\\\output_9.wav'"
      ]
     },
     "execution_count": 2,
     "metadata": {},
     "output_type": "execute_result"
    }
   ],
   "source": [
    "from decoders.decoder_3 import decode_to_audio\n",
    "\n",
    "decode_to_audio(output_txt,\n",
    "                bpm=bpm)"
   ]
  },
  {
   "cell_type": "code",
   "execution_count": null,
   "id": "f8d6091b",
   "metadata": {},
   "outputs": [],
   "source": []
  }
 ],
 "metadata": {
  "kernelspec": {
   "display_name": ".venv",
   "language": "python",
   "name": "python3"
  },
  "language_info": {
   "codemirror_mode": {
    "name": "ipython",
    "version": 3
   },
   "file_extension": ".py",
   "mimetype": "text/x-python",
   "name": "python",
   "nbconvert_exporter": "python",
   "pygments_lexer": "ipython3",
   "version": "3.10.5"
  }
 },
 "nbformat": 4,
 "nbformat_minor": 5
}
