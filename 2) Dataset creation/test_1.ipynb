{
 "cells": [
  {
   "cell_type": "code",
   "execution_count": 1,
   "id": "b97fdeca",
   "metadata": {},
   "outputs": [],
   "source": [
    "from encoder import encode\n",
    "from decoder import decode_to_audio"
   ]
  },
  {
   "cell_type": "code",
   "execution_count": 2,
   "id": "1b1e5fd9",
   "metadata": {},
   "outputs": [
    {
     "name": "stdout",
     "output_type": "stream",
     "text": [
      "Processing MIDI file: k523.mid\n",
      "-------------------------------------------------------\n",
      "Score title: None\n",
      "Total instruments detected: 3\n",
      "Note: 1 instruments may use duplicate programs\n",
      "Estimated length: 4.86 minutes\n",
      "=======================================================\n",
      "\u001b[92mData saved to ../dataset/text\\k523.txt \n",
      "with bpm = 90.0\u001b[0m\n",
      "=======================================================\n",
      "\n",
      "\n",
      "Loading data from: ../dataset/text\\k523.txt\n",
      "-------------------------------------------------------\n",
      "Song name: k523, BPM: 90.0\n",
      "-------------------------------------------------------\n",
      "Score created with 3 parts\n",
      "=======================================================\n",
      "\u001b[92mSuccessfully decoded and saved audio as ../example_outputs/decoder_testing\\k523_2.wav \n",
      "with bpm = 90.0\u001b[0m\n",
      "=======================================================\n",
      "\n",
      "\n"
     ]
    }
   ],
   "source": [
    "test_1 = \"../test_data/k523.mid\"\n",
    "\n",
    "output_txt = encode(test_1, print_details=False, numerate= False)\n",
    "\n",
    "_ = decode_to_audio(output_txt, print_details=False)"
   ]
  }
 ],
 "metadata": {
  "kernelspec": {
   "display_name": ".venv",
   "language": "python",
   "name": "python3"
  },
  "language_info": {
   "codemirror_mode": {
    "name": "ipython",
    "version": 3
   },
   "file_extension": ".py",
   "mimetype": "text/x-python",
   "name": "python",
   "nbconvert_exporter": "python",
   "pygments_lexer": "ipython3",
   "version": "3.10.5"
  }
 },
 "nbformat": 4,
 "nbformat_minor": 5
}
