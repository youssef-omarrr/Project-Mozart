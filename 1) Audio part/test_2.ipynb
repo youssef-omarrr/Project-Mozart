{
 "cells": [
  {
   "cell_type": "code",
   "execution_count": null,
   "id": "57aae614",
   "metadata": {},
   "outputs": [],
   "source": [
    "from encoder_2 import encode\n",
    "\n",
    "midi_file = \"../data/k520.mid\"   # <<< replace with your MIDI file\n",
    "\n",
    "output_txt, bpm = encode(midi_file)"
   ]
  }
 ],
 "metadata": {
  "language_info": {
   "name": "python"
  }
 },
 "nbformat": 4,
 "nbformat_minor": 5
}
