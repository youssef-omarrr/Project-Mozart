{
 "cells": [
  {
   "cell_type": "code",
   "execution_count": 1,
   "id": "171e61c1",
   "metadata": {},
   "outputs": [
    {
     "name": "stdout",
     "output_type": "stream",
     "text": [
      "Processing MIDI file: Piano Concerto n23 K488 1mov.mid\n",
      "Total instruments detected: 14\n",
      "BPM: 122.0\n",
      "Data saved to test_txt\\output_28.txt\n"
     ]
    }
   ],
   "source": [
    "from encoders.encoder_2 import encode\n",
    "\n",
    "test_1 = \"../data/Piano Concerto n23 K488 1mov.mid\"\n",
    "output_txt, bpm = encode(test_1)\n"
   ]
  },
  {
   "cell_type": "code",
   "execution_count": 2,
   "id": "41dd8e06",
   "metadata": {},
   "outputs": [
    {
     "name": "stdout",
     "output_type": "stream",
     "text": [
      "Loading data from: test_txt\\output_28.txt\n",
      "Input data contains 14 instruments:\n",
      "  - Flute: 1169 tokens\n",
      "  - Clarinet: 1062 tokens\n",
      "  - Clarinet_2: 740 tokens\n",
      "  - Bassoon: 1366 tokens\n",
      "  - Bassoon_2: 586 tokens\n",
      "  - Horn: 815 tokens\n",
      "  - Piano: 2598 tokens\n",
      "  - Piano_2: 1321 tokens\n",
      "  - Piano_3: 462 tokens\n",
      "  - StringInstrument: 1617 tokens\n",
      "  - StringInstrument_2: 1488 tokens\n",
      "  - StringInstrument_3: 1435 tokens\n",
      "  - StringInstrument_4: 1369 tokens\n",
      "  - Contrabass: 1371 tokens\n",
      "Score created with 14 parts\n",
      "Instrument program mapping used:\n",
      "  Flute: Program 73\n",
      "  Clarinet: Program 71\n",
      "  Clarinet_2: Program 71\n",
      "  Bassoon: Program 70\n",
      "  Bassoon_2: Program 32\n",
      "  Horn: Program 60\n",
      "  Piano: Program 0\n",
      "  Piano_2: Program 0\n",
      "  Piano_3: Program 0\n",
      "  StringInstrument: Program 0\n",
      "  StringInstrument_2: Program 0\n",
      "  StringInstrument_3: Program 0\n",
      "  StringInstrument_4: Program 0\n",
      "  Contrabass: Program 43\n",
      "Successfully decoded and saved audio as test_audio\\output_3.wav with bpm = 122.0\n"
     ]
    },
    {
     "data": {
      "text/plain": [
       "'test_audio\\\\output_3.wav'"
      ]
     },
     "execution_count": 2,
     "metadata": {},
     "output_type": "execute_result"
    }
   ],
   "source": [
    "from decoders.decoder_3 import decode_to_audio\n",
    "\n",
    "decode_to_audio(output_txt,\n",
    "                bpm=bpm)"
   ]
  }
 ],
 "metadata": {
  "kernelspec": {
   "display_name": ".venv",
   "language": "python",
   "name": "python3"
  },
  "language_info": {
   "codemirror_mode": {
    "name": "ipython",
    "version": 3
   },
   "file_extension": ".py",
   "mimetype": "text/x-python",
   "name": "python",
   "nbconvert_exporter": "python",
   "pygments_lexer": "ipython3",
   "version": "3.10.5"
  }
 },
 "nbformat": 4,
 "nbformat_minor": 5
}
