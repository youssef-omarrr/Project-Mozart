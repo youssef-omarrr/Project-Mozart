{
 "cells": [
  {
   "cell_type": "code",
   "execution_count": 15,
   "id": "09e931b2",
   "metadata": {},
   "outputs": [],
   "source": [
    "from typing import Optional\n",
    "import torch\n",
    "from transformers import AutoModelForCausalLM, AutoTokenizer\n",
    "from peft import PeftModel"
   ]
  },
  {
   "cell_type": "code",
   "execution_count": 16,
   "id": "422836df",
   "metadata": {},
   "outputs": [],
   "source": [
    "DEFAULT_BASE_MODEL = \"../MODELS/gpt2-medium-local/\"            # local base model folder (saved_pretrained)\n",
    "MY_MODEL_DIR = \"../MODELS/Project_Mozart_gpt2-medium\"        # where LoRA adapters live\n",
    "CACHE_DIR = \"../MODELS/\"   \n",
    "DEVICE = \"cuda\""
   ]
  },
  {
   "cell_type": "code",
   "execution_count": 19,
   "id": "ef3b3c2a",
   "metadata": {},
   "outputs": [],
   "source": [
    "def load_model_and_tokenizer(\n",
    "    my_model_dir: str = MY_MODEL_DIR,\n",
    "    base_model_dir: str = DEFAULT_BASE_MODEL,\n",
    "    cashed_dir: str = CACHE_DIR,\n",
    "    device: str =  \"cuda\" if torch.cuda.is_available() else \"cpu\",\n",
    "):\n",
    "    \n",
    "    # 1. Load tokenizer\n",
    "    tokenizer = AutoTokenizer.from_pretrained(\n",
    "                                            pretrained_model_name_or_path = my_model_dir,\n",
    "                                            local_files_only = True,\n",
    "                                            cache_dir = cashed_dir,\n",
    "                                            )\n",
    "    \n",
    "    # 2. Load model\n",
    "    base_model  = AutoModelForCausalLM.from_pretrained(\n",
    "                                            pretrained_model_name_or_path = base_model_dir,\n",
    "                                            cache_dir=cashed_dir,\n",
    "                                            dtype=torch.float16,\n",
    "                                        ).to(device)\n",
    "\n",
    "    # Resize embeddings if tokenizer has added tokens\n",
    "    base_model.resize_token_embeddings(len(tokenizer),\n",
    "                                        mean_resizing=False)\n",
    "\n",
    "    # 3. Apply LoRA\n",
    "    model = PeftModel.from_pretrained(\n",
    "                                base_model,\n",
    "                                my_model_dir, \n",
    "                                local_files_only=True\n",
    "                                ).to(device)\n",
    "\n",
    "    model.eval()\n",
    "    return model, tokenizer"
   ]
  },
  {
   "cell_type": "code",
   "execution_count": 20,
   "id": "e159afa5",
   "metadata": {},
   "outputs": [],
   "source": [
    "model, tokenizer = load_model_and_tokenizer()"
   ]
  },
  {
   "cell_type": "code",
   "execution_count": 24,
   "id": "550e9153",
   "metadata": {},
   "outputs": [
    {
     "name": "stderr",
     "output_type": "stream",
     "text": [
      "Setting `pad_token_id` to `eos_token_id`:50256 for open-end generation.\n"
     ]
    },
    {
     "name": "stdout",
     "output_type": "stream",
     "text": [
      "generate a piece that is around 1 minute long. If you're interested in this instrument, check out the Piano Bozak: http://www.bozak-1.org/index.html\n"
     ]
    }
   ],
   "source": [
    "prompt = \"generate a piece that is around 1 minute long\"\n",
    "\n",
    "# 1. Tokenize input\n",
    "inputs = tokenizer(prompt, return_tensors=\"pt\").to(DEVICE)\n",
    "\n",
    "# 2. Generate text\n",
    "outputs = model.generate(\n",
    "    **inputs,\n",
    "    max_length=50,        # total length (input + generated)\n",
    "    do_sample=True,       # sampling instead of greedy\n",
    "    temperature=0.7,      # randomness\n",
    "    top_p=0.9,            # nucleus sampling\n",
    ")\n",
    "\n",
    "# 3. Decode\n",
    "text = tokenizer.decode(outputs[0], skip_special_tokens=True)\n",
    "print(text)\n"
   ]
  },
  {
   "cell_type": "code",
   "execution_count": null,
   "id": "a989855d",
   "metadata": {},
   "outputs": [],
   "source": []
  }
 ],
 "metadata": {
  "kernelspec": {
   "display_name": ".venv",
   "language": "python",
   "name": "python3"
  },
  "language_info": {
   "codemirror_mode": {
    "name": "ipython",
    "version": 3
   },
   "file_extension": ".py",
   "mimetype": "text/x-python",
   "name": "python",
   "nbconvert_exporter": "python",
   "pygments_lexer": "ipython3",
   "version": "3.10.5"
  }
 },
 "nbformat": 4,
 "nbformat_minor": 5
}
