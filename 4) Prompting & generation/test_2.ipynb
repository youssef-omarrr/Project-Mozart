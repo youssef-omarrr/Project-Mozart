{
 "cells": [
  {
   "cell_type": "code",
   "execution_count": 1,
   "id": "e159afa5",
   "metadata": {},
   "outputs": [],
   "source": [
    "from utils import load_model_and_tokenizer\n",
    "\n",
    "model, tokenizer = load_model_and_tokenizer()"
   ]
  },
  {
   "cell_type": "code",
   "execution_count": 1,
   "id": "00a802cb",
   "metadata": {},
   "outputs": [],
   "source": [
    "!set CUDA_LAUNCH_BLOCKING=1"
   ]
  },
  {
   "cell_type": "code",
   "execution_count": 15,
   "id": "550e9153",
   "metadata": {},
   "outputs": [
    {
     "name": "stderr",
     "output_type": "stream",
     "text": [
      "Setting `pad_token_id` to `eos_token_id`:50256 for open-end generation.\n"
     ]
    },
    {
     "name": "stdout",
     "output_type": "stream",
     "text": [
      "<|startofpiece|><NAME=wow><BPM=120><DURATION_BEATS=1200><DURATION_MINUTES=10.00><TRACKS>Violin:  <TRACKSEP> Flute: \n",
      "wow>120>1200>10.00>Violin:   Flute: izure Piano: E-5_q E-5_q E-5_q E-5_q E-5_q E-5_q E-5_q E-5_q E-5_q E-5_q E-5_q E-5_q E-5_q E-5_q E-5_q E-5_q E-5_q E-5_q E-5_q E-5_q E-5_q E-5_q E-5_q E-5_q E-5_q E-5_q E-5_q E-5_q E-5_q E-5_q E-5_q E-5_q E-5_q E-5_q E-5_q E-5_q E-5_q E-5_q E-5_q E-5_q E-5_q E-5_q E-5_q E-5_q E-5_q E-5_q E-5_q E-5_q E-5_q E-5_q E-5_q E-5_q E-5_q E-5_q E-5_q E-5_q E-5_q E-5_q E-5_q E-5_q E-5_q E-5_q E-5_q E-5_q E-5_q E-5_q E-5_q E-5_q E-5_q E-5_q E-5_q E-5_q E-5_q E-5_q E-5_q E-5_q E-5_q E-5_q E-5_q E-5_q E-5_q E-5_q E-5_q E-5_q E-5_q E-5_q E-5_q E-5_q E-5_q E-5_q E-5_q E-5_q E-5_q E-5_q E-5_q E-5_q E-5_q E-5_q E-5_q E-5_q E-5_q E-5\n",
      "Saved piece to ../example_outputs/model_output/piece_39.txt\n"
     ]
    }
   ],
   "source": [
    "from utils import generate_text\n",
    "\n",
    "prompt = \"generate a piece named wow that is around 10 minute long using 120 bpm from what you learned\"\n",
    "\n",
    "output = generate_text(prompt)\n"
   ]
  },
  {
   "cell_type": "code",
   "execution_count": 16,
   "id": "b5ddfc93",
   "metadata": {},
   "outputs": [
    {
     "name": "stdout",
     "output_type": "stream",
     "text": [
      "Loading data from: ../example_outputs/model_output/piece_39.txt\n",
      "-------------------------------------------------------\n",
      "Song name: wow, BPM: 120.0\n",
      "-------------------------------------------------------\n",
      "Input data contains 2 instruments:\n",
      "  - flute: 1 tokens\n",
      "  - piano: 102 tokens\n",
      "-------------------------------------------------------\n",
      "Creating part for: flute\n",
      "  -> Using instrument: Flute (Program 73: Flute)\n",
      "  Warning: Could not process token 'izure': Invalid token format: izure\n",
      "  -> Added 0 notes/rests\n",
      "Creating part for: piano\n",
      "  -> Using instrument: Piano (Program 0: Acoustic Grand Piano)\n",
      "  Warning: Could not process token 'E-5': Invalid token format: E-5\n",
      "  -> Added 101 notes/rests\n",
      "Score created with 2 parts\n",
      "-------------------------------------------------------\n",
      "Instrument program mapping used:\n",
      "  flute: Program 73\n",
      "  piano: Program 0\n",
      "=======================================================\n",
      "\u001b[92mSuccessfully decoded and saved audio as ../example_outputs/model_output\\wow_17.wav \n",
      "with bpm = 120.0\u001b[0m\n",
      "=======================================================\n",
      "\n",
      "\n"
     ]
    },
    {
     "data": {
      "text/plain": [
       "'../example_outputs/model_output\\\\wow_17.wav'"
      ]
     },
     "execution_count": 16,
     "metadata": {},
     "output_type": "execute_result"
    }
   ],
   "source": [
    "from decoder import decode_to_audio\n",
    "decode_to_audio(output)"
   ]
  },
  {
   "cell_type": "code",
   "execution_count": 1,
   "id": "2a875062",
   "metadata": {},
   "outputs": [
    {
     "data": {
      "text/plain": [
       "{'name': 'wow',\n",
       " 'bpm': 190,\n",
       " 'duration_beats': 190,\n",
       " 'duration_minutes': 1.0,\n",
       " 'instruments': ['piano', 'orchestra']}"
      ]
     },
     "execution_count": 1,
     "metadata": {},
     "output_type": "execute_result"
    }
   ],
   "source": [
    "from prompt_utils import parse_user_instruction\n",
    "\n",
    "prompt = \"generate a piece named wow that is around 1 minute long and use piano and some other instruments using something like 190 bpm from what you learned\"\n",
    "\n",
    "out_dict = parse_user_instruction(prompt)\n",
    "\n",
    "out_dict"
   ]
  },
  {
   "cell_type": "code",
   "execution_count": null,
   "id": "586401c9",
   "metadata": {},
   "outputs": [
    {
     "data": {
      "text/plain": [
       "('<|startofpiece|><NAME=wow><BPM=190><DURATION_BEATS=190><DURATION_MINUTES=1.00><TRACKS>Piano: Rest_q Rest_q Rest_q <TRACKSEP> Trumpet: Rest_q Rest_q Rest_q <TRACKSEP> Drums: Rest_q Rest_q Rest_q',\n",
       " {'name': 'wow',\n",
       "  'bpm': 190.0,\n",
       "  'duration_beats': 190,\n",
       "  'duration_minutes': 1.0,\n",
       "  'instruments': ['piano', 'trumpet', 'drums']})"
      ]
     },
     "execution_count": 14,
     "metadata": {},
     "output_type": "execute_result"
    }
   ],
   "source": [
    "from prompt_utils import build_structured_prompt\n",
    "\n",
    "prompt2, meta = build_structured_prompt(tokenizer, out_dict)\n",
    "\n",
    "prompt2, meta "
   ]
  },
  {
   "cell_type": "code",
   "execution_count": 16,
   "id": "1aac7f7c",
   "metadata": {},
   "outputs": [
    {
     "name": "stderr",
     "output_type": "stream",
     "text": [
      "Setting `pad_token_id` to `eos_token_id`:50256 for open-end generation.\n"
     ]
    },
    {
     "name": "stdout",
     "output_type": "stream",
     "text": [
      "Saved generated text to ../example_outputs/model_output/output_6.txt\n"
     ]
    },
    {
     "data": {
      "text/plain": [
       "'wow>190>190>1.00>Piano: Rest_q Rest_q Rest_q  Trumpet: Rest_q Rest_q Rest_q  Drums: Rest_q Rest_q Rest_q Rest_q Rest_q Rest_q Rest_q Rest_q Rest_q Rest_'"
      ]
     },
     "execution_count": 16,
     "metadata": {},
     "output_type": "execute_result"
    }
   ],
   "source": [
    "text = generate_text(prompt2)\n",
    "\n",
    "text"
   ]
  }
 ],
 "metadata": {
  "kernelspec": {
   "display_name": ".venv",
   "language": "python",
   "name": "python3"
  },
  "language_info": {
   "codemirror_mode": {
    "name": "ipython",
    "version": 3
   },
   "file_extension": ".py",
   "mimetype": "text/x-python",
   "name": "python",
   "nbconvert_exporter": "python",
   "pygments_lexer": "ipython3",
   "version": "3.10.5"
  }
 },
 "nbformat": 4,
 "nbformat_minor": 5
}
