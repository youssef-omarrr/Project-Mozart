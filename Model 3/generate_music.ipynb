{
 "cells": [
  {
   "cell_type": "markdown",
   "id": "a8829a63",
   "metadata": {},
   "source": [
    "## 1.Load best pretrained model"
   ]
  },
  {
   "cell_type": "code",
   "execution_count": 1,
   "id": "3692b2dd",
   "metadata": {},
   "outputs": [],
   "source": [
    "from model import ProjectMozart\n",
    "\n",
    "# 1.1. Create model instance\n",
    "model = ProjectMozart()"
   ]
  },
  {
   "cell_type": "code",
   "execution_count": 2,
   "id": "8b03727f",
   "metadata": {},
   "outputs": [
    {
     "data": {
      "text/plain": [
       "<All keys matched successfully>"
      ]
     },
     "execution_count": 2,
     "metadata": {},
     "output_type": "execute_result"
    }
   ],
   "source": [
    "import torch\n",
    "\n",
    "# 1.2. Load pretrained state_dicts\n",
    "checkpoint = torch.load(\"checkpoints/ProjectMozart.pth\", map_location=\"cpu\")\n",
    "model.load_state_dict(checkpoint[\"model_state_dict\"])"
   ]
  },
  {
   "cell_type": "markdown",
   "id": "1b74350d",
   "metadata": {},
   "source": [
    "## 2. Load tokenizer"
   ]
  },
  {
   "cell_type": "code",
   "execution_count": 3,
   "id": "ab1b5abc",
   "metadata": {},
   "outputs": [
    {
     "name": "stderr",
     "output_type": "stream",
     "text": [
      "d:\\Codess & Projects\\.venv\\lib\\site-packages\\miditok\\tokenizations\\remi.py:88: UserWarning: Attribute controls are not compatible with 'config.one_token_stream_for_programs' and multi-vocabulary tokenizers. Disabling them from the config.\n",
      "  super().__init__(tokenizer_config, params)\n"
     ]
    }
   ],
   "source": [
    "from data.music_tokenizer import get_tokenizer\n",
    "\n",
    "tokenizer = get_tokenizer()"
   ]
  },
  {
   "cell_type": "markdown",
   "id": "2f47f04e",
   "metadata": {},
   "source": [
    "## 3. Call `generate_music` function"
   ]
  },
  {
   "cell_type": "code",
   "execution_count": 7,
   "id": "fc923ac3",
   "metadata": {},
   "outputs": [
    {
     "name": "stderr",
     "output_type": "stream",
     "text": [
      "Generating...: 100%|██████████| 4096/4096 [00:31<00:00, 131.74it/s]\n"
     ]
    },
    {
     "name": "stdout",
     "output_type": "stream",
     "text": [
      "midi created\n",
      "Saved: model_outputs/midi_files\\Generated_Mozart_8.mid and model_outputs/wav_files\\Generated_Mozart_8.wav\n"
     ]
    }
   ],
   "source": [
    "from generate import generate_music\n",
    "\n",
    "tokens = generate_music(model,\n",
    "                    tokenizer,\n",
    "                    max_new_tokens = 4096)"
   ]
  },
  {
   "cell_type": "code",
   "execution_count": 8,
   "id": "71c5d108",
   "metadata": {},
   "outputs": [
    {
     "data": {
      "text/plain": [
       "tensor([[  4, 557, 190,  ..., 206, 397,  40]])"
      ]
     },
     "execution_count": 8,
     "metadata": {},
     "output_type": "execute_result"
    }
   ],
   "source": [
    "# Testing continue_gen\n",
    "tokens"
   ]
  },
  {
   "cell_type": "code",
   "execution_count": null,
   "id": "33896e26",
   "metadata": {},
   "outputs": [
    {
     "name": "stderr",
     "output_type": "stream",
     "text": [
      "Generating...: 100%|██████████| 2048/2048 [00:16<00:00, 122.93it/s]\n"
     ]
    },
    {
     "name": "stdout",
     "output_type": "stream",
     "text": [
      "midi created\n",
      "Saved: model_outputs/midi_files\\Generated_Mozart_9.mid and model_outputs/wav_files\\Generated_Mozart_9.wav\n"
     ]
    }
   ],
   "source": [
    "tokens = generate_music(model,\n",
    "                        tokenizer,\n",
    "                        continue_gen_tensor= tokens)"
   ]
  },
  {
   "cell_type": "code",
   "execution_count": 4,
   "id": "6d704895",
   "metadata": {},
   "outputs": [
    {
     "name": "stderr",
     "output_type": "stream",
     "text": [
      "Generating...: 100%|██████████| 2048/2048 [00:13<00:00, 150.40it/s]\n"
     ]
    },
    {
     "name": "stdout",
     "output_type": "stream",
     "text": [
      "midi created\n",
      "Saved: model_outputs/midi_files\\Generated_Mozart_10.mid and model_outputs/wav_files\\Generated_Mozart_10.wav\n"
     ]
    }
   ],
   "source": [
    "from generate import generate_music\n",
    "\n",
    "tokens = generate_music(model,\n",
    "                        tokenizer,\n",
    "                        continue_gen_midi= \"model_outputs/midi_files/Generated_Mozart_2.mid\")"
   ]
  }
 ],
 "metadata": {
  "kernelspec": {
   "display_name": ".venv",
   "language": "python",
   "name": "python3"
  },
  "language_info": {
   "codemirror_mode": {
    "name": "ipython",
    "version": 3
   },
   "file_extension": ".py",
   "mimetype": "text/x-python",
   "name": "python",
   "nbconvert_exporter": "python",
   "pygments_lexer": "ipython3",
   "version": "3.10.5"
  }
 },
 "nbformat": 4,
 "nbformat_minor": 5
}
