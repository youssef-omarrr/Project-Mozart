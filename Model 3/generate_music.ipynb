{
 "cells": [
  {
   "cell_type": "markdown",
   "id": "a8829a63",
   "metadata": {},
   "source": [
    "## 1.Load best pretrained model"
   ]
  },
  {
   "cell_type": "markdown",
   "id": "1b74350d",
   "metadata": {},
   "source": [
    "## 2. Load tokenizer"
   ]
  },
  {
   "cell_type": "markdown",
   "id": "2f47f04e",
   "metadata": {},
   "source": [
    "## 3. Call `generate_music` function"
   ]
  },
  {
   "cell_type": "markdown",
   "id": "41876a77",
   "metadata": {},
   "source": []
  }
 ],
 "metadata": {
  "language_info": {
   "name": "python"
  }
 },
 "nbformat": 4,
 "nbformat_minor": 5
}
