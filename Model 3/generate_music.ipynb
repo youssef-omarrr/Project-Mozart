{
 "cells": [
  {
   "cell_type": "markdown",
   "id": "a8829a63",
   "metadata": {},
   "source": [
    "## 1.Load best pretrained model"
   ]
  },
  {
   "cell_type": "code",
   "execution_count": null,
   "id": "ab1b5abc",
   "metadata": {},
   "outputs": [],
   "source": []
  },
  {
   "cell_type": "markdown",
   "id": "1b74350d",
   "metadata": {},
   "source": [
    "## 2. Load tokenizer"
   ]
  },
  {
   "cell_type": "markdown",
   "id": "2f47f04e",
   "metadata": {},
   "source": [
    "## 3. Call `generate_music` function"
   ]
  }
 ],
 "metadata": {
  "kernelspec": {
   "display_name": ".venv",
   "language": "python",
   "name": "python3"
  },
  "language_info": {
   "codemirror_mode": {
    "name": "ipython",
    "version": 3
   },
   "file_extension": ".py",
   "mimetype": "text/x-python",
   "name": "python",
   "nbconvert_exporter": "python",
   "pygments_lexer": "ipython3",
   "version": "3.10.5"
  }
 },
 "nbformat": 4,
 "nbformat_minor": 5
}
