{
 "cells": [
  {
   "cell_type": "markdown",
   "id": "a8829a63",
   "metadata": {},
   "source": [
    "## 1.Load best pretrained model"
   ]
  },
  {
   "cell_type": "code",
   "execution_count": 1,
   "id": "3692b2dd",
   "metadata": {},
   "outputs": [],
   "source": [
    "from model import ProjectMozart\n",
    "\n",
    "# 1.1. Create model instance\n",
    "model = ProjectMozart()"
   ]
  },
  {
   "cell_type": "code",
   "execution_count": 6,
   "id": "8b03727f",
   "metadata": {},
   "outputs": [
    {
     "data": {
      "text/plain": [
       "<All keys matched successfully>"
      ]
     },
     "execution_count": 6,
     "metadata": {},
     "output_type": "execute_result"
    }
   ],
   "source": [
    "import torch\n",
    "\n",
    "# 1.2. Load pretrained state_dicts\n",
    "checkpoint = torch.load(\"checkpoints/ProjectTchaikovsky.pth\", map_location=\"cpu\")\n",
    "model.load_state_dict(checkpoint[\"model_state_dict\"])"
   ]
  },
  {
   "cell_type": "markdown",
   "id": "1b74350d",
   "metadata": {},
   "source": [
    "## 2. Load tokenizer"
   ]
  },
  {
   "cell_type": "code",
   "execution_count": 7,
   "id": "ab1b5abc",
   "metadata": {},
   "outputs": [],
   "source": [
    "from data.music_tokenizer import get_tokenizer\n",
    "\n",
    "tokenizer = get_tokenizer()"
   ]
  },
  {
   "cell_type": "markdown",
   "id": "2f47f04e",
   "metadata": {},
   "source": [
    "## 3. Call `generate_music` function"
   ]
  },
  {
   "cell_type": "code",
   "execution_count": 9,
   "id": "fc923ac3",
   "metadata": {},
   "outputs": [
    {
     "name": "stderr",
     "output_type": "stream",
     "text": [
      "Generating...: 100%|██████████| 4000/4000 [00:27<00:00, 143.45it/s]\n"
     ]
    },
    {
     "name": "stdout",
     "output_type": "stream",
     "text": [
      "midi created\n",
      "Saved: model_outputs/midi_files\\Generated_Tchaikovsky_12.mid and model_outputs/wav_files\\Generated_Tchaikovsky_10.wav\n"
     ]
    }
   ],
   "source": [
    "from generate import generate_music\n",
    "\n",
    "# 3.1. Generate from scratch\n",
    "tokens = generate_music(model,\n",
    "                    tokenizer,\n",
    "                    file_name=\"Generated_Tchaikovsky\",\n",
    "                    max_new_tokens = 4000)"
   ]
  },
  {
   "cell_type": "code",
   "execution_count": null,
   "id": "33896e26",
   "metadata": {},
   "outputs": [
    {
     "name": "stderr",
     "output_type": "stream",
     "text": [
      "Generating...: 100%|██████████| 2048/2048 [00:16<00:00, 122.93it/s]\n"
     ]
    },
    {
     "name": "stdout",
     "output_type": "stream",
     "text": [
      "midi created\n",
      "Saved: model_outputs/midi_files\\Generated_Mozart_9.mid and model_outputs/wav_files\\Generated_Mozart_9.wav\n"
     ]
    }
   ],
   "source": [
    "# 3.2. Continue generation from tokens\n",
    "tokens = generate_music(model,\n",
    "                        tokenizer,\n",
    "                        continue_gen_tensor= tokens)"
   ]
  },
  {
   "cell_type": "code",
   "execution_count": 6,
   "id": "6d704895",
   "metadata": {},
   "outputs": [
    {
     "name": "stdout",
     "output_type": "stream",
     "text": [
      "[Loaded] Continuing generation from given midi file...\n"
     ]
    },
    {
     "name": "stderr",
     "output_type": "stream",
     "text": [
      "Generating...: 100%|██████████| 2048/2048 [00:14<00:00, 145.55it/s]\n"
     ]
    },
    {
     "name": "stdout",
     "output_type": "stream",
     "text": [
      "midi created\n",
      "Saved: model_outputs/midi_files\\Generated_Beethoven_7.mid and model_outputs/wav_files\\Generated_Beethoven_6.wav\n"
     ]
    }
   ],
   "source": [
    "from generate import generate_music\n",
    "\n",
    "# 3.3. Continue generation from midi file\n",
    "tokens = generate_music(model,\n",
    "                        tokenizer,\n",
    "                        file_name=\"Generated_Beethoven\",\n",
    "                        continue_gen_midi= \"model_outputs/midi_files/Generated_Mozart_2.mid\")"
   ]
  },
  {
   "cell_type": "code",
   "execution_count": null,
   "id": "7dfa2ff5",
   "metadata": {},
   "outputs": [],
   "source": []
  }
 ],
 "metadata": {
  "kernelspec": {
   "display_name": ".venv",
   "language": "python",
   "name": "python3"
  },
  "language_info": {
   "codemirror_mode": {
    "name": "ipython",
    "version": 3
   },
   "file_extension": ".py",
   "mimetype": "text/x-python",
   "name": "python",
   "nbconvert_exporter": "python",
   "pygments_lexer": "ipython3",
   "version": "3.10.5"
  }
 },
 "nbformat": 4,
 "nbformat_minor": 5
}
