{
 "cells": [
  {
   "cell_type": "markdown",
   "id": "a8829a63",
   "metadata": {},
   "source": [
    "## 1.Load best pretrained model"
   ]
  },
  {
   "cell_type": "code",
   "execution_count": 8,
   "id": "3692b2dd",
   "metadata": {},
   "outputs": [],
   "source": [
    "from model import ProjectMozart\n",
    "\n",
    "# 1.1. Create model instance\n",
    "model = ProjectMozart()"
   ]
  },
  {
   "cell_type": "code",
   "execution_count": 12,
   "id": "8b03727f",
   "metadata": {},
   "outputs": [
    {
     "data": {
      "text/plain": [
       "<All keys matched successfully>"
      ]
     },
     "execution_count": 12,
     "metadata": {},
     "output_type": "execute_result"
    }
   ],
   "source": [
    "import torch\n",
    "\n",
    "# 1.2. Load pretrained state_dicts\n",
    "checkpoint = torch.load(\"checkpoints/ProjectMozart.pth\", map_location=\"cpu\")\n",
    "model.load_state_dict(checkpoint[\"model_state_dict\"])"
   ]
  },
  {
   "cell_type": "markdown",
   "id": "1b74350d",
   "metadata": {},
   "source": [
    "## 2. Load tokenizer"
   ]
  },
  {
   "cell_type": "code",
   "execution_count": 11,
   "id": "ab1b5abc",
   "metadata": {},
   "outputs": [
    {
     "name": "stderr",
     "output_type": "stream",
     "text": [
      "d:\\Codess & Projects\\.venv\\lib\\site-packages\\miditok\\tokenizations\\remi.py:88: UserWarning: Attribute controls are not compatible with 'config.one_token_stream_for_programs' and multi-vocabulary tokenizers. Disabling them from the config.\n",
      "  super().__init__(tokenizer_config, params)\n"
     ]
    }
   ],
   "source": [
    "from data.music_tokenizer import get_tokenizer\n",
    "\n",
    "tokenizer = get_tokenizer()"
   ]
  },
  {
   "cell_type": "markdown",
   "id": "2f47f04e",
   "metadata": {},
   "source": [
    "## 3. Call `generate_music` function"
   ]
  },
  {
   "cell_type": "code",
   "execution_count": 15,
   "id": "fc923ac3",
   "metadata": {},
   "outputs": [
    {
     "name": "stderr",
     "output_type": "stream",
     "text": [
      "Generating...: 100%|██████████| 4096/4096 [00:24<00:00, 163.95it/s]\n"
     ]
    },
    {
     "name": "stdout",
     "output_type": "stream",
     "text": [
      "midi created\n",
      "Saved: model_outputs/midi_files\\Generated_Mozart_15.mid and model_outputs/wav_files\\Generated_Mozart_15.wav\n"
     ]
    }
   ],
   "source": [
    "from generate import generate_music\n",
    "\n",
    "# 3.1. Generate from scratch\n",
    "tokens = generate_music(model,\n",
    "                    tokenizer,\n",
    "                    max_new_tokens = 4096)"
   ]
  },
  {
   "cell_type": "code",
   "execution_count": null,
   "id": "33896e26",
   "metadata": {},
   "outputs": [
    {
     "name": "stderr",
     "output_type": "stream",
     "text": [
      "Generating...: 100%|██████████| 2048/2048 [00:16<00:00, 122.93it/s]\n"
     ]
    },
    {
     "name": "stdout",
     "output_type": "stream",
     "text": [
      "midi created\n",
      "Saved: model_outputs/midi_files\\Generated_Mozart_9.mid and model_outputs/wav_files\\Generated_Mozart_9.wav\n"
     ]
    }
   ],
   "source": [
    "# 3.2. Continue generation from tokens\n",
    "tokens = generate_music(model,\n",
    "                        tokenizer,\n",
    "                        continue_gen_tensor= tokens)"
   ]
  },
  {
   "cell_type": "code",
   "execution_count": null,
   "id": "6d704895",
   "metadata": {},
   "outputs": [
    {
     "name": "stdout",
     "output_type": "stream",
     "text": [
      "[Loaded] Continuing generation from given midi file...\n"
     ]
    },
    {
     "name": "stderr",
     "output_type": "stream",
     "text": [
      "Generating...:   0%|          | 0/2048 [00:00<?, ?it/s]"
     ]
    },
    {
     "name": "stderr",
     "output_type": "stream",
     "text": [
      "Generating...: 100%|██████████| 2048/2048 [00:14<00:00, 146.00it/s]\n"
     ]
    },
    {
     "name": "stdout",
     "output_type": "stream",
     "text": [
      "midi created\n",
      "Saved: model_outputs/midi_files\\Generated_Mozart_15.mid and model_outputs/wav_files\\Generated_Mozart_15.wav\n"
     ]
    }
   ],
   "source": [
    "from generate import generate_music\n",
    "\n",
    "# 3.3. Continue generation from midi file\n",
    "tokens = generate_music(model,\n",
    "                        tokenizer,\n",
    "                        continue_gen_midi= \"model_outputs/midi_files/test_3.mid\")"
   ]
  }
 ],
 "metadata": {
  "kernelspec": {
   "display_name": ".venv",
   "language": "python",
   "name": "python3"
  },
  "language_info": {
   "codemirror_mode": {
    "name": "ipython",
    "version": 3
   },
   "file_extension": ".py",
   "mimetype": "text/x-python",
   "name": "python",
   "nbconvert_exporter": "python",
   "pygments_lexer": "ipython3",
   "version": "3.10.5"
  }
 },
 "nbformat": 4,
 "nbformat_minor": 5
}
