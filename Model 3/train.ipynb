{
 "cells": [
  {
   "cell_type": "markdown",
   "id": "57fb9c6a",
   "metadata": {},
   "source": [
    "## 1. Load tokenized dataset"
   ]
  },
  {
   "cell_type": "code",
   "execution_count": 1,
   "id": "96bfdb1c",
   "metadata": {},
   "outputs": [
    {
     "name": "stderr",
     "output_type": "stream",
     "text": [
      "d:\\Codess & Projects\\.venv\\lib\\site-packages\\miditok\\tokenizations\\remi.py:88: UserWarning: Attribute controls are not compatible with 'config.one_token_stream_for_programs' and multi-vocabulary tokenizers. Disabling them from the config.\n",
      "  super().__init__(tokenizer_config, params)\n",
      "Tokenizing MIDI files: 100%|██████████| 83/83 [00:11<00:00,  7.01it/s]\n"
     ]
    }
   ],
   "source": [
    "from data.music_tokenizer import get_tokenized_data\n",
    "\n",
    "tokenized_data = get_tokenized_data(\"../midi_dataset/Beethoven\")"
   ]
  },
  {
   "cell_type": "markdown",
   "id": "fe94e0be",
   "metadata": {},
   "source": [
    "## 2. Load Dataloaders"
   ]
  },
  {
   "cell_type": "code",
   "execution_count": 3,
   "id": "94da51bc",
   "metadata": {},
   "outputs": [
    {
     "name": "stderr",
     "output_type": "stream",
     "text": [
      "Creating dataset...: 100%|██████████| 83/83 [00:14<00:00,  5.73it/s]"
     ]
    },
    {
     "name": "stdout",
     "output_type": "stream",
     "text": [
      "Creating dataloaders...\n"
     ]
    },
    {
     "name": "stderr",
     "output_type": "stream",
     "text": [
      "\n"
     ]
    }
   ],
   "source": [
    "from data.dataset_and_dataloaders import create_dataloaders\n",
    "\n",
    "train_dataloader, val_dataloader = create_dataloaders(tokenized_data)"
   ]
  },
  {
   "cell_type": "markdown",
   "id": "97c6704d",
   "metadata": {},
   "source": [
    "## 3. Create model"
   ]
  },
  {
   "cell_type": "code",
   "execution_count": 4,
   "id": "cb3a1b59",
   "metadata": {},
   "outputs": [],
   "source": [
    "from model import ProjectMozart\n",
    "\n",
    "model = ProjectMozart()"
   ]
  },
  {
   "cell_type": "markdown",
   "id": "bf952c7b",
   "metadata": {},
   "source": [
    "## 4. Train model"
   ]
  },
  {
   "cell_type": "code",
   "execution_count": 7,
   "id": "f1617d9b",
   "metadata": {},
   "outputs": [
    {
     "name": "stdout",
     "output_type": "stream",
     "text": [
      "Training on deivce: cuda\n",
      "Loaded pretrained model (val_loss=1.2312)\n",
      "Training epoch no.1 / 2\n",
      "-----------------------------------\n"
     ]
    },
    {
     "name": "stderr",
     "output_type": "stream",
     "text": [
      "Training...: 100%|██████████| 5115/5115 [37:03<00:00,  2.30it/s, train_losses=1.3020, lr=3.99e-05]\n"
     ]
    },
    {
     "name": "stdout",
     "output_type": "stream",
     "text": [
      "Validating....\n"
     ]
    },
    {
     "name": "stderr",
     "output_type": "stream",
     "text": [
      "Testing...: 100%|██████████| 569/569 [01:51<00:00,  5.10it/s, val_losses=1.1005]\n"
     ]
    },
    {
     "name": "stdout",
     "output_type": "stream",
     "text": [
      "Model saved.\n",
      "Epoch no.1 / 2 summary\n",
      "-----------------------------------\n",
      "Average train losses = 1.302\n",
      "Average validation losses = 1.100\n",
      "=================================== \n",
      "\n",
      "Training epoch no.2 / 2\n",
      "-----------------------------------\n"
     ]
    },
    {
     "name": "stderr",
     "output_type": "stream",
     "text": [
      "Training...: 100%|██████████| 5115/5115 [37:48<00:00,  2.25it/s, train_losses=1.1361, lr=3.81e-05]\n"
     ]
    },
    {
     "name": "stdout",
     "output_type": "stream",
     "text": [
      "Validating....\n"
     ]
    },
    {
     "name": "stderr",
     "output_type": "stream",
     "text": [
      "Testing...: 100%|██████████| 569/569 [01:50<00:00,  5.16it/s, val_losses=0.9037]\n"
     ]
    },
    {
     "name": "stdout",
     "output_type": "stream",
     "text": [
      "Model saved.\n",
      "Epoch no.2 / 2 summary\n",
      "-----------------------------------\n",
      "Average train losses = 1.136\n",
      "Average validation losses = 0.904\n",
      "=================================== \n",
      "\n"
     ]
    }
   ],
   "source": [
    "from training.trainer import train_model\n",
    "\n",
    "train_losses, val_losses = train_model(model=model,\n",
    "                                    train_dataloader= train_dataloader,\n",
    "                                    val_dataloader= val_dataloader,\n",
    "                                    load_pretrained=\"checkpoints/ProjectBeethoven.pth\",\n",
    "                                    epochs= 2)"
   ]
  }
 ],
 "metadata": {
  "kernelspec": {
   "display_name": ".venv",
   "language": "python",
   "name": "python3"
  },
  "language_info": {
   "codemirror_mode": {
    "name": "ipython",
    "version": 3
   },
   "file_extension": ".py",
   "mimetype": "text/x-python",
   "name": "python",
   "nbconvert_exporter": "python",
   "pygments_lexer": "ipython3",
   "version": "3.10.5"
  }
 },
 "nbformat": 4,
 "nbformat_minor": 5
}
