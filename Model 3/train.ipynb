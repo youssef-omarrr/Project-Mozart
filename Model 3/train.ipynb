{
 "cells": [
  {
   "cell_type": "markdown",
   "id": "57fb9c6a",
   "metadata": {},
   "source": [
    "## 1. Load tokenized dataset"
   ]
  },
  {
   "cell_type": "code",
   "execution_count": 5,
   "id": "96bfdb1c",
   "metadata": {},
   "outputs": [
    {
     "name": "stderr",
     "output_type": "stream",
     "text": [
      "d:\\Codess & Projects\\.venv\\lib\\site-packages\\miditok\\tokenizations\\remi.py:88: UserWarning: Attribute controls are not compatible with 'config.one_token_stream_for_programs' and multi-vocabulary tokenizers. Disabling them from the config.\n",
      "  super().__init__(tokenizer_config, params)\n",
      "Tokenizing MIDI files: 100%|██████████| 92/92 [00:24<00:00,  3.75it/s]\n"
     ]
    }
   ],
   "source": [
    "from data.music_tokenizer import get_tokenized_data\n",
    "\n",
    "tokenized_data = get_tokenized_data(\"../midi_dataset/Tchaikovsky\")"
   ]
  },
  {
   "cell_type": "markdown",
   "id": "fe94e0be",
   "metadata": {},
   "source": [
    "## 2. Load Dataloaders"
   ]
  },
  {
   "cell_type": "code",
   "execution_count": 6,
   "id": "94da51bc",
   "metadata": {},
   "outputs": [
    {
     "name": "stderr",
     "output_type": "stream",
     "text": [
      "Creating dataset...: 100%|██████████| 92/92 [00:28<00:00,  3.21it/s]\n"
     ]
    },
    {
     "name": "stdout",
     "output_type": "stream",
     "text": [
      "Creating dataloaders...\n"
     ]
    }
   ],
   "source": [
    "from data.dataset_and_dataloaders import create_dataloaders\n",
    "\n",
    "train_dataloader, val_dataloader = create_dataloaders(tokenized_data)"
   ]
  },
  {
   "cell_type": "markdown",
   "id": "97c6704d",
   "metadata": {},
   "source": [
    "## 3. Create model"
   ]
  },
  {
   "cell_type": "code",
   "execution_count": 7,
   "id": "cb3a1b59",
   "metadata": {},
   "outputs": [],
   "source": [
    "from model import ProjectMozart\n",
    "\n",
    "model = ProjectMozart()"
   ]
  },
  {
   "cell_type": "markdown",
   "id": "bf952c7b",
   "metadata": {},
   "source": [
    "## 4. Train model"
   ]
  },
  {
   "cell_type": "code",
   "execution_count": 8,
   "id": "f1617d9b",
   "metadata": {},
   "outputs": [
    {
     "name": "stdout",
     "output_type": "stream",
     "text": [
      "Training on deivce: cuda\n",
      "Loaded pretrained model (val_loss=0.8614)\n",
      "Training epoch no.1 / 2\n",
      "-----------------------------------\n"
     ]
    },
    {
     "name": "stderr",
     "output_type": "stream",
     "text": [
      "Training...: 100%|██████████| 10501/10501 [1:15:30<00:00,  2.32it/s, train_losses=0.9164, lr=2.26e-07]\n"
     ]
    },
    {
     "name": "stdout",
     "output_type": "stream",
     "text": [
      "Validating....\n"
     ]
    },
    {
     "name": "stderr",
     "output_type": "stream",
     "text": [
      "Testing...: 100%|██████████| 1167/1167 [03:36<00:00,  5.38it/s, val_losses=0.7579]\n"
     ]
    },
    {
     "name": "stdout",
     "output_type": "stream",
     "text": [
      "Model saved.\n",
      "Epoch no.1 / 2 summary\n",
      "-----------------------------------\n",
      "Average train losses = 0.916\n",
      "Average validation losses = 0.758\n",
      "=================================== \n",
      "\n",
      "Training epoch no.2 / 2\n",
      "-----------------------------------\n"
     ]
    },
    {
     "name": "stderr",
     "output_type": "stream",
     "text": [
      "Training...: 100%|██████████| 10501/10501 [1:14:33<00:00,  2.35it/s, train_losses=0.8236, lr=3.24e-05]\n"
     ]
    },
    {
     "name": "stdout",
     "output_type": "stream",
     "text": [
      "Validating....\n"
     ]
    },
    {
     "name": "stderr",
     "output_type": "stream",
     "text": [
      "Testing...: 100%|██████████| 1167/1167 [03:34<00:00,  5.44it/s, val_losses=0.6447]\n"
     ]
    },
    {
     "name": "stdout",
     "output_type": "stream",
     "text": [
      "Model saved.\n",
      "Epoch no.2 / 2 summary\n",
      "-----------------------------------\n",
      "Average train losses = 0.824\n",
      "Average validation losses = 0.645\n",
      "=================================== \n",
      "\n"
     ]
    }
   ],
   "source": [
    "from training.trainer import train_model\n",
    "\n",
    "train_losses, val_losses = train_model(model=model,\n",
    "                                    train_dataloader= train_dataloader,\n",
    "                                    val_dataloader= val_dataloader,\n",
    "                                    load_pretrained=\"checkpoints/ProjectMozartVB.pth\",\n",
    "                                    epochs= 2)"
   ]
  },
  {
   "cell_type": "code",
   "execution_count": null,
   "id": "237511c2",
   "metadata": {},
   "outputs": [],
   "source": []
  }
 ],
 "metadata": {
  "kernelspec": {
   "display_name": ".venv",
   "language": "python",
   "name": "python3"
  },
  "language_info": {
   "codemirror_mode": {
    "name": "ipython",
    "version": 3
   },
   "file_extension": ".py",
   "mimetype": "text/x-python",
   "name": "python",
   "nbconvert_exporter": "python",
   "pygments_lexer": "ipython3",
   "version": "3.10.5"
  }
 },
 "nbformat": 4,
 "nbformat_minor": 5
}
