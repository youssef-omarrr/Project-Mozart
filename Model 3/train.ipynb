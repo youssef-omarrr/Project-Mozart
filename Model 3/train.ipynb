{
 "cells": [
  {
   "cell_type": "markdown",
   "id": "57fb9c6a",
   "metadata": {},
   "source": [
    "## 1. Load tokenized dataset"
   ]
  },
  {
   "cell_type": "code",
   "execution_count": 1,
   "id": "96bfdb1c",
   "metadata": {},
   "outputs": [
    {
     "name": "stderr",
     "output_type": "stream",
     "text": [
      "d:\\Codess & Projects\\.venv\\lib\\site-packages\\miditok\\tokenizations\\remi.py:88: UserWarning: Attribute controls are not compatible with 'config.one_token_stream_for_programs' and multi-vocabulary tokenizers. Disabling them from the config.\n",
      "  super().__init__(tokenizer_config, params)\n",
      "Tokenizing MIDI files: 100%|██████████| 182/182 [00:29<00:00,  6.21it/s]\n"
     ]
    }
   ],
   "source": [
    "from data.music_tokenizer import get_tokenized_data\n",
    "\n",
    "tokenized_data = get_tokenized_data(\"../midi_dataset\")"
   ]
  },
  {
   "cell_type": "markdown",
   "id": "fe94e0be",
   "metadata": {},
   "source": [
    "## 2. Load Dataloaders"
   ]
  },
  {
   "cell_type": "code",
   "execution_count": 2,
   "id": "94da51bc",
   "metadata": {},
   "outputs": [
    {
     "name": "stderr",
     "output_type": "stream",
     "text": [
      "Creating dataset...: 100%|██████████| 182/182 [00:34<00:00,  5.30it/s]"
     ]
    },
    {
     "name": "stdout",
     "output_type": "stream",
     "text": [
      "Creating dataloaders...\n"
     ]
    },
    {
     "name": "stderr",
     "output_type": "stream",
     "text": [
      "\n"
     ]
    }
   ],
   "source": [
    "from data.dataset_and_dataloaders import create_dataloaders\n",
    "\n",
    "train_dataloader, val_dataloader = create_dataloaders(tokenized_data)"
   ]
  },
  {
   "cell_type": "markdown",
   "id": "97c6704d",
   "metadata": {},
   "source": [
    "## 3. Create model"
   ]
  },
  {
   "cell_type": "code",
   "execution_count": 3,
   "id": "cb3a1b59",
   "metadata": {},
   "outputs": [],
   "source": [
    "from model import ProjectMozart\n",
    "\n",
    "model = ProjectMozart()"
   ]
  },
  {
   "cell_type": "markdown",
   "id": "bf952c7b",
   "metadata": {},
   "source": [
    "## 4. Train model"
   ]
  },
  {
   "cell_type": "code",
   "execution_count": null,
   "id": "f1617d9b",
   "metadata": {},
   "outputs": [],
   "source": [
    "from training.trainer import train_model\n",
    "\n",
    "train_losses, val_losses = train_model(model=model,\n",
    "                                    train_dataloader= train_dataloader,\n",
    "                                    val_dataloader= val_dataloader,\n",
    "                                    load_pretrained=\"checkpoints/checkpoint_epoch_1.pth\",\n",
    "                                    epochs= 3) # only 3 of the 5 were completed"
   ]
  },
  {
   "cell_type": "code",
   "execution_count": null,
   "id": "237511c2",
   "metadata": {},
   "outputs": [],
   "source": []
  }
 ],
 "metadata": {
  "kernelspec": {
   "display_name": ".venv",
   "language": "python",
   "name": "python3"
  },
  "language_info": {
   "codemirror_mode": {
    "name": "ipython",
    "version": 3
   },
   "file_extension": ".py",
   "mimetype": "text/x-python",
   "name": "python",
   "nbconvert_exporter": "python",
   "pygments_lexer": "ipython3",
   "version": "3.10.5"
  }
 },
 "nbformat": 4,
 "nbformat_minor": 5
}
