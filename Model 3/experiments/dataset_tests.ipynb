{
 "cells": [
  {
   "cell_type": "code",
   "execution_count": 1,
   "id": "28ed9e15",
   "metadata": {},
   "outputs": [
    {
     "name": "stderr",
     "output_type": "stream",
     "text": [
      "d:\\Codess & Projects\\.venv\\lib\\site-packages\\miditok\\tokenizations\\remi.py:88: UserWarning: Attribute controls are not compatible with 'config.one_token_stream_for_programs' and multi-vocabulary tokenizers. Disabling them from the config.\n",
      "  super().__init__(tokenizer_config, params)\n",
      "Tokenizing MIDI files: 100%|██████████| 182/182 [00:31<00:00,  5.85it/s]\n"
     ]
    }
   ],
   "source": [
    "from music_tokenizer import get_tokenized_data\n",
    "\n",
    "ids = get_tokenized_data(\"../../midi_dataset\")"
   ]
  },
  {
   "cell_type": "code",
   "execution_count": 2,
   "id": "4ec4b671",
   "metadata": {},
   "outputs": [
    {
     "name": "stderr",
     "output_type": "stream",
     "text": [
      "Creating dataset...: 100%|██████████| 182/182 [04:38<00:00,  1.53s/it]\n"
     ]
    },
    {
     "name": "stdout",
     "output_type": "stream",
     "text": [
      "Creating dataloaders...\n"
     ]
    }
   ],
   "source": [
    "from dataset_and_dataloaders import create_dataloaders\n",
    "\n",
    "train, val = create_dataloaders(ids)"
   ]
  },
  {
   "cell_type": "code",
   "execution_count": 3,
   "id": "6e42c13b",
   "metadata": {},
   "outputs": [],
   "source": [
    "batch = next(iter(train))\n",
    "input, target = batch"
   ]
  },
  {
   "cell_type": "code",
   "execution_count": 4,
   "id": "a443ac3b",
   "metadata": {},
   "outputs": [
    {
     "data": {
      "text/plain": [
       "tensor([474,  58, 111, 128, 209, 472,  49, 120, 126, 210])"
      ]
     },
     "execution_count": 4,
     "metadata": {},
     "output_type": "execute_result"
    }
   ],
   "source": [
    "input[0, :10]"
   ]
  },
  {
   "cell_type": "code",
   "execution_count": 5,
   "id": "15bb4d33",
   "metadata": {},
   "outputs": [
    {
     "data": {
      "text/plain": [
       "tensor([ 58, 111, 128, 209, 472,  49, 120, 126, 210, 499])"
      ]
     },
     "execution_count": 5,
     "metadata": {},
     "output_type": "execute_result"
    }
   ],
   "source": [
    "target[0, :10]"
   ]
  },
  {
   "cell_type": "code",
   "execution_count": 6,
   "id": "704cd5f6",
   "metadata": {},
   "outputs": [
    {
     "name": "stdout",
     "output_type": "stream",
     "text": [
      "torch.Size([32, 512])\n",
      "torch.Size([32, 512])\n"
     ]
    }
   ],
   "source": [
    "print(input.shape)\n",
    "print(target.shape)"
   ]
  },
  {
   "cell_type": "code",
   "execution_count": 10,
   "id": "db1ed0c3",
   "metadata": {},
   "outputs": [
    {
     "name": "stdout",
     "output_type": "stream",
     "text": [
      "102423\n",
      "11381\n"
     ]
    }
   ],
   "source": [
    "print(len(train))\n",
    "print(len(val))"
   ]
  }
 ],
 "metadata": {
  "kernelspec": {
   "display_name": ".venv",
   "language": "python",
   "name": "python3"
  },
  "language_info": {
   "codemirror_mode": {
    "name": "ipython",
    "version": 3
   },
   "file_extension": ".py",
   "mimetype": "text/x-python",
   "name": "python",
   "nbconvert_exporter": "python",
   "pygments_lexer": "ipython3",
   "version": "3.10.5"
  }
 },
 "nbformat": 4,
 "nbformat_minor": 5
}
