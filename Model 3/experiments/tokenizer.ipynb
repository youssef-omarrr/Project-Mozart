{
 "cells": [
  {
   "cell_type": "markdown",
   "id": "562743d8",
   "metadata": {},
   "source": [
    "| `one_token_stream_for_programs` | Best For                          | Pros                                                | Cons                                |\n",
    "| ------- | --------------------------------- | --------------------------------------------------- | ----------------------------------- |\n",
    "| `True`  | Simpler training, small datasets  | Unified sequence, learns inter-instrument relations | More token noise, program switching |\n",
    "| `False` | Multi-instrument/orchestral music | Clean per-instrument modeling                       | Requires multi-stream handling      |\n",
    "\n",
    "> \\\n",
    "> In this notebook we will try both by chaning the `one_token_stream_test` bool variable."
   ]
  },
  {
   "cell_type": "markdown",
   "id": "d354d3c7",
   "metadata": {},
   "source": [
    "`tokenizer.complete_sequence()`\n",
    "\n",
    "**Purpose:**\n",
    "\n",
    "When you generate or edit token sequences manually (e.g., from a model output), some tokens may be incomplete or inconsistent, missing tempo, bar, or program context, etc.\n",
    "`complete_sequence()` fills in or fixes those missing pieces so that the sequence can be decoded safely into a valid MIDI file.\n",
    "\n",
    "```python\n",
    "tokens = model.generate(...)\n",
    "tokens = tokenizer.complete_sequence(tokens)\n",
    "midi = tokenizer.decode(tokens)\n",
    "```"
   ]
  },
  {
   "cell_type": "code",
   "execution_count": null,
   "id": "d6e3fb4f",
   "metadata": {},
   "outputs": [
    {
     "name": "stderr",
     "output_type": "stream",
     "text": [
      "d:\\Codess & Projects\\.venv\\lib\\site-packages\\miditok\\tokenizations\\remi.py:88: UserWarning: Attribute controls are not compatible with 'config.one_token_stream_for_programs' and multi-vocabulary tokenizers. Disabling them from the config.\n",
      "  super().__init__(tokenizer_config, params)\n"
     ]
    },
    {
     "data": {
      "text/plain": [
       "<bound method MusicTokenizer.complete_sequence of 564 tokens with ('T',) io format (one token stream), not trained>"
      ]
     },
     "execution_count": 15,
     "metadata": {},
     "output_type": "execute_result"
    }
   ],
   "source": [
    "from miditok import REMI, TokenizerConfig\n",
    "\n",
    "one_token_stream_test = True\n",
    "\n",
    "# Set up a config that gives you REMI+ behavior\n",
    "config = TokenizerConfig(                   \n",
    "    use_programs=True,                         # Include instrument program numbers (to distinguish instruments)\n",
    "    one_token_stream_for_programs              # (if true) Merge all instruments into a single token stream instead of separating them\n",
    "    = one_token_stream_test,        \n",
    "    use_time_signatures=True,                  # Include time signature tokens in the encoding\n",
    "    use_chords=True,                           # (Optional) Detect and include chord tokens\n",
    "    use_rests=True,                            # (Optional) Represent silence periods as rest tokens\n",
    "    use_tempos=True                            # (Optional) Include tempo change tokens\n",
    ")\n",
    "\n",
    "tokenizer = REMI(config)\n",
    "\n",
    "tokenizer"
   ]
  }
 ],
 "metadata": {
  "kernelspec": {
   "display_name": ".venv",
   "language": "python",
   "name": "python3"
  },
  "language_info": {
   "codemirror_mode": {
    "name": "ipython",
    "version": 3
   },
   "file_extension": ".py",
   "mimetype": "text/x-python",
   "name": "python",
   "nbconvert_exporter": "python",
   "pygments_lexer": "ipython3",
   "version": "3.10.5"
  }
 },
 "nbformat": 4,
 "nbformat_minor": 5
}
