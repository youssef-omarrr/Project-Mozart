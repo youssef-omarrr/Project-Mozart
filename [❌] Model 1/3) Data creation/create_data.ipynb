{
 "cells": [
  {
   "cell_type": "code",
   "execution_count": 1,
   "id": "b0e800a1",
   "metadata": {},
   "outputs": [],
   "source": [
    "from create_data import creat_training_data\n",
    "\n",
    "creat_training_data()"
   ]
  },
  {
   "cell_type": "code",
   "execution_count": 2,
   "id": "9676941d",
   "metadata": {},
   "outputs": [
    {
     "name": "stdout",
     "output_type": "stream",
     "text": [
      "Total examples: 24066\n",
      "Train: 19252  Test: 4814\n",
      "Masked examples in inputs: 24066 / 24066\n",
      "\n",
      "Sample masked input (train):\n",
      "<|startofpiece|><NAME=mozk622c><BPM=114.0><DURATION_BEATS=2711.0><DURATION_MINUTES=9.34><TRACKS><MASK> <TRACKSEP> Mozart Clarinet: <MASK><|endofpiece|>\n",
      "\n",
      "Sample target (train):\n",
      "<|startofpiece|><NAME=mozk622c><BPM=114.0><DURATION_BEATS=2711.0><DURATION_MINUTES=9.34><TRACKS>B-5_s <TRACKSEP> Mozart Clarinet: D6_e C6_s B-5_s A5_s G5_s F5_s E-5_s D5_e Rest_q D5_s F5_s E5_s F5_s G5_s F5_s E-5_s F5_s E-5_s D5_s C5_s B-4_s A4_s B-4_s A4_s G4_s F4_s E-4_s D4_e Rest_q D4_s F4_s E4_s F4_s G4_s F4_s E-4_s F4_s E-4_s D4_s C4_s B-3_s A3_s B-3_s A3_s G3_s F3_s<|endofpiece|>\n"
     ]
    }
   ],
   "source": [
    "from mask_data import mask_data\n",
    "\n",
    "mask_data()"
   ]
  },
  {
   "cell_type": "code",
   "execution_count": 1,
   "id": "2c6d0df8",
   "metadata": {},
   "outputs": [
    {
     "name": "stdout",
     "output_type": "stream",
     "text": [
      "Extracted 27812 unique musical tokens → ..\\..\\dataset\\unique_notes.txt\n",
      "Sample: ['A1.A2.E3.G3_q', 'A1.A2.G1.G2_1/3', 'A1.A2_0.75', 'A1.A2_1.25', 'A1.A2_1.5', 'A1.A2_1/12', 'A1.A2_1/3', 'A1.A2_2.5', 'A1.A2_2/3', 'A1.A2_3.25', 'A1.A2_4/3', 'A1.A2_5/12', 'A1.A2_5/3', 'A1.A2_e', 'A1.A2_h', 'A1.A2_q', 'A1.A2_s', 'A1.A3.A3.A4_q', 'A1.A3.C#3_s', 'A1.A3_1.75', 'A1.A4_1/12', 'A1.A4_1/3', 'A1.A4_s', 'A1.B-1_s', 'A1.B1.C#2_s', 'A1.B1_s', 'A1.C#2.E2.A2_1.5', 'A1.C#2.E2.A2_s', 'A1.C#2.E2_0.75', 'A1.C#2.E2_q']\n"
     ]
    }
   ],
   "source": [
    "from get_tokens import extract_unique_notes_from_full\n",
    "\n",
    "notes = extract_unique_notes_from_full()\n",
    "print(\"Sample:\", notes[:30])"
   ]
  }
 ],
 "metadata": {
  "kernelspec": {
   "display_name": ".venv",
   "language": "python",
   "name": "python3"
  },
  "language_info": {
   "codemirror_mode": {
    "name": "ipython",
    "version": 3
   },
   "file_extension": ".py",
   "mimetype": "text/x-python",
   "name": "python",
   "nbconvert_exporter": "python",
   "pygments_lexer": "ipython3",
   "version": "3.10.5"
  }
 },
 "nbformat": 4,
 "nbformat_minor": 5
}
