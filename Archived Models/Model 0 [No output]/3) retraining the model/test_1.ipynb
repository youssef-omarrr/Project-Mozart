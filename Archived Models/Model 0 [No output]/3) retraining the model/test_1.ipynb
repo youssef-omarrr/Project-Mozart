{
 "cells": [
  {
   "cell_type": "code",
   "execution_count": 1,
   "id": "b526f5bc",
   "metadata": {},
   "outputs": [
    {
     "name": "stdout",
     "output_type": "stream",
     "text": [
      "Found 182 files, splitting into 145 train and 37 test files\n"
     ]
    }
   ],
   "source": [
    "from create_data_files import create_training_data\n",
    "\n",
    "create_training_data()"
   ]
  },
  {
   "cell_type": "code",
   "execution_count": 4,
   "id": "816c4cd3",
   "metadata": {},
   "outputs": [
    {
     "name": "stdout",
     "output_type": "stream",
     "text": [
      "Loading tokenizer...\n",
      "Found 4767 musical tokens out of 55002 total\n",
      "No new musical tokens to add (they may already exist in vocabulary)\n",
      "<MASK> token already exists in vocabulary\n",
      "Loading base model with correct vocab size...\n",
      "Loading LoRA adapters...\n",
      "Saving updated model...\n",
      "Update complete!\n",
      "Found 4767 musical tokens out of 55002 total\n"
     ]
    }
   ],
   "source": [
    "from utils import load_model_and_tokenizer, update_model_with_mask_token\n",
    "\n",
    "update_model_with_mask_token()\n",
    "\n",
    "model, tokenizer = load_model_and_tokenizer()\n",
    "\n",
    "# analyze_tokenizer(tokenizer)"
   ]
  },
  {
   "cell_type": "code",
   "execution_count": 2,
   "id": "6305f191",
   "metadata": {},
   "outputs": [
    {
     "name": "stdout",
     "output_type": "stream",
     "text": [
      "Tokenization test: ['C4_q', 'Ġ', 'D4_e', 'Ġ', 'Rest_h', 'Ġ', 'G5_1.0', 'ĠPiano', ':']\n",
      "Musical tokens found: ['C4_q', 'D4_e', 'Rest_h', 'G5_1.0']\n"
     ]
    }
   ],
   "source": [
    "from filter import is_musical_token\n",
    "\n",
    "# Add this test before training\n",
    "test_text = \"C4_q D4_e Rest_h G5_1.0 Piano:\"\n",
    "tokens = tokenizer.tokenize(test_text)\n",
    "print(\"Tokenization test:\", tokens)\n",
    "musical_tokens = [token for token in tokens if is_musical_token(token)]\n",
    "print(\"Musical tokens found:\", musical_tokens)"
   ]
  },
  {
   "cell_type": "code",
   "execution_count": 3,
   "id": "f186cf10",
   "metadata": {},
   "outputs": [
    {
     "name": "stdout",
     "output_type": "stream",
     "text": [
      "Fixed pre-tokenized: 'C4_q D4_e Rest_h G5_1.0 Piano:'\n",
      "Fixed tokens: ['C4_q', 'Ġ', 'D4_e', 'Ġ', 'Rest_h', 'Ġ', 'G5_1.0', 'ĠPiano', ':']\n",
      "Clean musical tokens: ['C4_q', 'D4_e', 'Rest_h', 'G5_1.0']\n"
     ]
    }
   ],
   "source": [
    "from prepare_dataset import pre_tokenize_musical_text\n",
    "from filter import is_musical_token\n",
    "\n",
    "text = \"C4_q D4_e Rest_h G5_1.0 Piano:\"\n",
    "pre_tokenized = pre_tokenize_musical_text(text)\n",
    "print(\"Fixed pre-tokenized:\", repr(pre_tokenized))\n",
    "# Should output: \"C4_q D4_e Rest_h G5_1.0 Piano:\"\n",
    "\n",
    "tokens = tokenizer.tokenize(pre_tokenized)\n",
    "print(\"Fixed tokens:\", tokens)\n",
    "# Should be cleaner: ['C4_q', 'Ġ', 'D4_e', 'Ġ', 'Rest_h', 'Ġ', 'G5_1.0', 'Ġ', 'Piano:']\n",
    "\n",
    "# Filter out space tokens for musical token detection\n",
    "musical_tokens = [token for token in tokens if is_musical_token(token) and token != 'Ġ']\n",
    "print(\"Clean musical tokens:\", musical_tokens)\n",
    "# Should be: ['C4_q', 'D4_e', 'Rest_h', 'G5_1.0', 'Piano:']"
   ]
  },
  {
   "cell_type": "code",
   "execution_count": 5,
   "id": "a16ae3f5",
   "metadata": {},
   "outputs": [
    {
     "name": "stdout",
     "output_type": "stream",
     "text": [
      "Tokenizer length: 55002\n",
      "Pad token: <|endofpiece|> 50258\n",
      "EOS token: <|endofpiece|> 50258\n",
      "Special tokens: {'bos_token': '<|startofpiece|>', 'eos_token': '<|endofpiece|>', 'unk_token': '<|endoftext|>', 'pad_token': '<|endofpiece|>', 'additional_special_tokens': ['<TRACKS>', '<TRACKSEP>', '<NAME=', '<BPM=', '<DURATION_BEATS=', '<DURATION_MINUTES=']}\n"
     ]
    }
   ],
   "source": [
    "print(\"Tokenizer length:\", len(tokenizer))\n",
    "print(\"Pad token:\", tokenizer.pad_token, tokenizer.pad_token_id)\n",
    "print(\"EOS token:\", tokenizer.eos_token, tokenizer.eos_token_id)\n",
    "print(\"Special tokens:\", tokenizer.special_tokens_map)\n"
   ]
  },
  {
   "cell_type": "markdown",
   "id": "2a5a911c",
   "metadata": {},
   "source": [
    "\n",
    "---\n",
    "\n",
    "## RETRAIN\n",
    "\n",
    "---"
   ]
  },
  {
   "cell_type": "code",
   "execution_count": null,
   "id": "8add79a4",
   "metadata": {},
   "outputs": [],
   "source": [
    "from retrain import train_lora\n",
    "from utils import load_model_and_tokenizer\n",
    "\n",
    "model, tokenizer = load_model_and_tokenizer(for_training = True)\n",
    "metrics_history = train_lora(model, tokenizer)"
   ]
  },
  {
   "cell_type": "code",
   "execution_count": null,
   "id": "7fb90f2c",
   "metadata": {},
   "outputs": [],
   "source": []
  }
 ],
 "metadata": {
  "kernelspec": {
   "display_name": ".venv",
   "language": "python",
   "name": "python3"
  },
  "language_info": {
   "codemirror_mode": {
    "name": "ipython",
    "version": 3
   },
   "file_extension": ".py",
   "mimetype": "text/x-python",
   "name": "python",
   "nbconvert_exporter": "python",
   "pygments_lexer": "ipython3",
   "version": "3.10.5"
  }
 },
 "nbformat": 4,
 "nbformat_minor": 5
}
