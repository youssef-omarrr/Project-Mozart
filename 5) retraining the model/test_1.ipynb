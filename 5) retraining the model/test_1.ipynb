{
 "cells": [
  {
   "cell_type": "code",
   "execution_count": 2,
   "id": "816c4cd3",
   "metadata": {},
   "outputs": [
    {
     "name": "stdout",
     "output_type": "stream",
     "text": [
      "Loading tokenizer...\n",
      "Found 1648 musical tokens out of 51894 total\n",
      "Added 1628 musical tokens to vocabulary\n",
      "<MASK> token already exists in vocabulary\n",
      "Loading base model with correct vocab size...\n",
      "Loading LoRA adapters...\n",
      "Saving updated model...\n",
      "Update complete!\n",
      "Found 1648 musical tokens out of 51894 total\n",
      "Added 1628 musical tokens to vocabulary\n"
     ]
    }
   ],
   "source": [
    "from utils import load_model_and_tokenizer, update_model_with_mask_token, analyze_tokenizer\n",
    "\n",
    "update_model_with_mask_token()\n",
    "\n",
    "model, tokenizer = load_model_and_tokenizer()\n",
    "\n",
    "# analyze_tokenizer(tokenizer)"
   ]
  },
  {
   "cell_type": "markdown",
   "id": "2a5a911c",
   "metadata": {},
   "source": [
    "\n",
    "---\n",
    "\n",
    "## RETRAIN\n",
    "\n",
    "---"
   ]
  },
  {
   "cell_type": "code",
   "execution_count": null,
   "id": "8add79a4",
   "metadata": {},
   "outputs": [
    {
     "name": "stdout",
     "output_type": "stream",
     "text": [
      "Found 1648 musical tokens out of 51894 total\n",
      "Added 2812 musical tokens to vocabulary\n"
     ]
    },
    {
     "name": "stderr",
     "output_type": "stream",
     "text": [
      "d:\\Codess & Projects\\.venv\\lib\\site-packages\\peft\\utils\\save_and_load.py:546: UserWarning: Some weights of PeftModelForCausalLM were not initialized from the model checkpoint and are being ignored because you passed `ignore_mismatched_sizes=True`: - base_model.model.lm_head.weight: found shape torch.Size([51894, 1024]) in the checkpoint and torch.Size([53078, 1024]) in the model instantiated\n",
      "- base_model.model.transformer.wte.weight: found shape torch.Size([51894, 1024]) in the checkpoint and torch.Size([53078, 1024]) in the model instantiated.\n",
      "  warnings.warn(msg)\n"
     ]
    },
    {
     "name": "stdout",
     "output_type": "stream",
     "text": [
      "Trainable params: 2,162,688 / 359,874,560 (0.60%)\n"
     ]
    },
    {
     "data": {
      "application/vnd.jupyter.widget-view+json": {
       "model_id": "744d09c085a7434281b8487fe02d325b",
       "version_major": 2,
       "version_minor": 0
      },
      "text/plain": [
       "Tokenizing pre-tokenized dataset:   0%|          | 0/435 [00:00<?, ? examples/s]"
      ]
     },
     "metadata": {},
     "output_type": "display_data"
    },
    {
     "data": {
      "application/vnd.jupyter.widget-view+json": {
       "model_id": "f09cf26322b745f3aa3e34616540f68d",
       "version_major": 2,
       "version_minor": 0
      },
      "text/plain": [
       "Tokenizing pre-tokenized dataset:   0%|          | 0/37 [00:00<?, ? examples/s]"
      ]
     },
     "metadata": {},
     "output_type": "display_data"
    },
    {
     "name": "stdout",
     "output_type": "stream",
     "text": [
      "Found 21 rest tokens in musical vocabulary\n"
     ]
    },
    {
     "data": {
      "application/vnd.jupyter.widget-view+json": {
       "model_id": "4afe2c967a534b9f8ce104c02308c0cd",
       "version_major": 2,
       "version_minor": 0
      },
      "text/plain": [
       "Epoch 1/5 [Train]:   0%|          | 0/218 [00:00<?, ?it/s]"
      ]
     },
     "metadata": {},
     "output_type": "display_data"
    },
    {
     "name": "stderr",
     "output_type": "stream",
     "text": [
      "`loss_type=None` was set in the config but it is unrecognized. Using the default loss: `ForCausalLMLoss`.\n"
     ]
    }
   ],
   "source": [
    "from retrain import train_lora\n",
    "from utils import load_model_and_tokenizer\n",
    "\n",
    "model, tokenizer = load_model_and_tokenizer(for_training = True)\n",
    "metrics_history = train_lora(model, tokenizer)"
   ]
  },
  {
   "cell_type": "code",
   "execution_count": null,
   "id": "058518bf",
   "metadata": {},
   "outputs": [
    {
     "ename": "",
     "evalue": "",
     "output_type": "error",
     "traceback": [
      "\u001b[1;31mnotebook controller is DISPOSED. \n",
      "\u001b[1;31mView Jupyter <a href='command:jupyter.viewOutput'>log</a> for further details."
     ]
    }
   ],
   "source": [
    "from retrain import plot_metrics\n",
    "\n",
    "plot_metrics(metrics_history)"
   ]
  }
 ],
 "metadata": {
  "kernelspec": {
   "display_name": ".venv",
   "language": "python",
   "name": "python3"
  },
  "language_info": {
   "codemirror_mode": {
    "name": "ipython",
    "version": 3
   },
   "file_extension": ".py",
   "mimetype": "text/x-python",
   "name": "python",
   "nbconvert_exporter": "python",
   "pygments_lexer": "ipython3",
   "version": "3.10.5"
  }
 },
 "nbformat": 4,
 "nbformat_minor": 5
}
