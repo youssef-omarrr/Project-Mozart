{
 "cells": [
  {
   "cell_type": "code",
   "execution_count": 1,
   "id": "816c4cd3",
   "metadata": {},
   "outputs": [
    {
     "name": "stdout",
     "output_type": "stream",
     "text": [
      "Loading tokenizer...\n",
      "Found 2843 musical tokens out of 53078 total\n",
      "Added 1924 new musical tokens to vocabulary\n",
      "Total musical tokens now: 4767\n",
      "<MASK> token already exists in vocabulary\n",
      "Loading base model with correct vocab size...\n"
     ]
    },
    {
     "name": "stderr",
     "output_type": "stream",
     "text": [
      "The new embeddings will be initialized from a multivariate normal distribution that has old embeddings' mean and covariance. As described in this article: https://nlp.stanford.edu/~johnhew/vocab-expansion.html. To disable this, use `mean_resizing=False`\n"
     ]
    },
    {
     "name": "stdout",
     "output_type": "stream",
     "text": [
      "Loading LoRA adapters...\n"
     ]
    },
    {
     "name": "stderr",
     "output_type": "stream",
     "text": [
      "d:\\Codess & Projects\\.venv\\lib\\site-packages\\peft\\utils\\save_and_load.py:546: UserWarning: Some weights of PeftModelForCausalLM were not initialized from the model checkpoint and are being ignored because you passed `ignore_mismatched_sizes=True`: - base_model.model.lm_head.weight: found shape torch.Size([53078, 1024]) in the checkpoint and torch.Size([55002, 1024]) in the model instantiated\n",
      "- base_model.model.transformer.wte.weight: found shape torch.Size([53078, 1024]) in the checkpoint and torch.Size([55002, 1024]) in the model instantiated.\n",
      "  warnings.warn(msg)\n"
     ]
    },
    {
     "name": "stdout",
     "output_type": "stream",
     "text": [
      "Saving updated model...\n",
      "Update complete!\n",
      "Found 4767 musical tokens out of 55002 total\n"
     ]
    }
   ],
   "source": [
    "from utils import load_model_and_tokenizer, update_model_with_mask_token\n",
    "\n",
    "update_model_with_mask_token()\n",
    "\n",
    "model, tokenizer = load_model_and_tokenizer()\n",
    "\n",
    "# analyze_tokenizer(tokenizer)"
   ]
  },
  {
   "cell_type": "code",
   "execution_count": 2,
   "id": "6305f191",
   "metadata": {},
   "outputs": [
    {
     "name": "stdout",
     "output_type": "stream",
     "text": [
      "Tokenization test: ['C4_q', 'Ġ', 'D4_e', 'Ġ', 'Rest_h', 'Ġ', 'G5_1.0', 'ĠPiano', ':']\n",
      "Musical tokens found: ['C4_q', 'D4_e', 'Rest_h', 'G5_1.0']\n"
     ]
    }
   ],
   "source": [
    "from filter import is_musical_token\n",
    "\n",
    "# Add this test before training\n",
    "test_text = \"C4_q D4_e Rest_h G5_1.0 Piano:\"\n",
    "tokens = tokenizer.tokenize(test_text)\n",
    "print(\"Tokenization test:\", tokens)\n",
    "musical_tokens = [token for token in tokens if is_musical_token(token)]\n",
    "print(\"Musical tokens found:\", musical_tokens)"
   ]
  },
  {
   "cell_type": "code",
   "execution_count": 3,
   "id": "f186cf10",
   "metadata": {},
   "outputs": [
    {
     "name": "stdout",
     "output_type": "stream",
     "text": [
      "Fixed pre-tokenized: 'C4_q D4_e Rest_h G5_1.0 Piano:'\n",
      "Fixed tokens: ['C4_q', 'Ġ', 'D4_e', 'Ġ', 'Rest_h', 'Ġ', 'G5_1.0', 'ĠPiano', ':']\n",
      "Clean musical tokens: ['C4_q', 'D4_e', 'Rest_h', 'G5_1.0']\n"
     ]
    }
   ],
   "source": [
    "from prepare_dataset import pre_tokenize_musical_text\n",
    "from filter import is_musical_token\n",
    "\n",
    "text = \"C4_q D4_e Rest_h G5_1.0 Piano:\"\n",
    "pre_tokenized = pre_tokenize_musical_text(text)\n",
    "print(\"Fixed pre-tokenized:\", repr(pre_tokenized))\n",
    "# Should output: \"C4_q D4_e Rest_h G5_1.0 Piano:\"\n",
    "\n",
    "tokens = tokenizer.tokenize(pre_tokenized)\n",
    "print(\"Fixed tokens:\", tokens)\n",
    "# Should be cleaner: ['C4_q', 'Ġ', 'D4_e', 'Ġ', 'Rest_h', 'Ġ', 'G5_1.0', 'Ġ', 'Piano:']\n",
    "\n",
    "# Filter out space tokens for musical token detection\n",
    "musical_tokens = [token for token in tokens if is_musical_token(token) and token != 'Ġ']\n",
    "print(\"Clean musical tokens:\", musical_tokens)\n",
    "# Should be: ['C4_q', 'D4_e', 'Rest_h', 'G5_1.0', 'Piano:']"
   ]
  },
  {
   "cell_type": "markdown",
   "id": "2a5a911c",
   "metadata": {},
   "source": [
    "\n",
    "---\n",
    "\n",
    "## RETRAIN\n",
    "\n",
    "---"
   ]
  },
  {
   "cell_type": "code",
   "execution_count": null,
   "id": "8add79a4",
   "metadata": {},
   "outputs": [
    {
     "name": "stdout",
     "output_type": "stream",
     "text": [
      "Found 2832 musical tokens out of 53078 total\n",
      "Trainable params: 2,162,688 / 359,874,560 (0.60%)\n"
     ]
    },
    {
     "data": {
      "application/vnd.jupyter.widget-view+json": {
       "model_id": "46be4fc2dc224822a3bcf5a94817208f",
       "version_major": 2,
       "version_minor": 0
      },
      "text/plain": [
       "Tokenizing pre-tokenized dataset:   0%|          | 0/435 [00:00<?, ? examples/s]"
      ]
     },
     "metadata": {},
     "output_type": "display_data"
    },
    {
     "data": {
      "application/vnd.jupyter.widget-view+json": {
       "model_id": "f0a4809dcd724675be996d1f2649426e",
       "version_major": 2,
       "version_minor": 0
      },
      "text/plain": [
       "Tokenizing pre-tokenized dataset:   0%|          | 0/37 [00:00<?, ? examples/s]"
      ]
     },
     "metadata": {},
     "output_type": "display_data"
    },
    {
     "name": "stdout",
     "output_type": "stream",
     "text": [
      "Found 21 rest tokens in musical vocabulary\n"
     ]
    },
    {
     "data": {
      "application/vnd.jupyter.widget-view+json": {
       "model_id": "72da12182edb453a948d609a436acb7d",
       "version_major": 2,
       "version_minor": 0
      },
      "text/plain": [
       "Epoch 1/5 [Train]:   0%|          | 0/218 [00:00<?, ?it/s]"
      ]
     },
     "metadata": {},
     "output_type": "display_data"
    },
    {
     "name": "stderr",
     "output_type": "stream",
     "text": [
      "`loss_type=None` was set in the config but it is unrecognized. Using the default loss: `ForCausalLMLoss`.\n"
     ]
    }
   ],
   "source": [
    "from retrain import train_lora\n",
    "from utils import load_model_and_tokenizer\n",
    "\n",
    "model, tokenizer = load_model_and_tokenizer(for_training = True)\n",
    "metrics_history = train_lora(model, tokenizer)"
   ]
  }
 ],
 "metadata": {
  "kernelspec": {
   "display_name": ".venv",
   "language": "python",
   "name": "python3"
  },
  "language_info": {
   "codemirror_mode": {
    "name": "ipython",
    "version": 3
   },
   "file_extension": ".py",
   "mimetype": "text/x-python",
   "name": "python",
   "nbconvert_exporter": "python",
   "pygments_lexer": "ipython3",
   "version": "3.10.5"
  }
 },
 "nbformat": 4,
 "nbformat_minor": 5
}
