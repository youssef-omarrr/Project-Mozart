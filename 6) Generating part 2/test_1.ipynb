{
 "cells": [
  {
   "cell_type": "code",
   "execution_count": 6,
   "id": "207ee92f",
   "metadata": {},
   "outputs": [
    {
     "name": "stdout",
     "output_type": "stream",
     "text": [
      "Generated prompt: <|startofpiece|><NAME=please work><BPM=120><DURATION_BEATS=3600><DURATION_MINUTES=30.00><TRACKS>Piano: <MASK> <TRACKSEP> Saxophone: <MASK>\n",
      "Generated text: <|startofpiece|><NAME=please work><BPM=120><DURATION_BEATS=3600><DURATION_MINUTES=30.00><TRACKS>Saxophone: Rest_3\n",
      "Found 1 instrument matches\n",
      "Added saxophone: ['Rest_3']\n",
      "Saved piece to ../example_outputs/model_output/piece_2.txt with 1 tracks\n"
     ]
    }
   ],
   "source": [
    "\n",
    "from utils import generate_text\n",
    "\n",
    "prompt = \"generate a piece named please work that is around 30 minute long using 120 bpm using piano and 2 instruments\"\n",
    "\n",
    "output = generate_text(prompt)"
   ]
  },
  {
   "cell_type": "code",
   "execution_count": null,
   "id": "5e08f939",
   "metadata": {},
   "outputs": [
    {
     "name": "stdout",
     "output_type": "stream",
     "text": [
      "Loading data from: ../example_outputs/model_output/piece_5.txt\n",
      "-------------------------------------------------------\n",
      "Song name: please work, BPM: 120.0\n",
      "-------------------------------------------------------\n",
      "Input data contains 1 instruments:\n",
      "  - synth: 1 tokens\n",
      "-------------------------------------------------------\n",
      "Creating part for: synth\n",
      "  -> Using instrument: ElectricBass (Program 38: Synth Bass 1)\n",
      "  -> Added 1 notes/rests\n",
      "Score created with 1 parts\n",
      "-------------------------------------------------------\n",
      "Instrument program mapping used:\n",
      "  synth: Program 38\n",
      "=======================================================\n",
      "\u001b[92mSuccessfully decoded and saved audio as ../example_outputs/model_output\\please_work_2.wav \n",
      "with bpm = 120.0\u001b[0m\n",
      "=======================================================\n",
      "\n",
      "\n"
     ]
    },
    {
     "data": {
      "text/plain": [
       "'../example_outputs/model_output\\\\please_work_2.wav'"
      ]
     },
     "execution_count": 8,
     "metadata": {},
     "output_type": "execute_result"
    }
   ],
   "source": [
    "from decoder import decode_to_audio\n",
    "decode_to_audio(output)"
   ]
  },
  {
   "cell_type": "code",
   "execution_count": null,
   "id": "e8182738",
   "metadata": {},
   "outputs": [],
   "source": []
  }
 ],
 "metadata": {
  "kernelspec": {
   "display_name": ".venv",
   "language": "python",
   "name": "python3"
  },
  "language_info": {
   "codemirror_mode": {
    "name": "ipython",
    "version": 3
   },
   "file_extension": ".py",
   "mimetype": "text/x-python",
   "name": "python",
   "nbconvert_exporter": "python",
   "pygments_lexer": "ipython3",
   "version": "3.10.5"
  }
 },
 "nbformat": 4,
 "nbformat_minor": 5
}
