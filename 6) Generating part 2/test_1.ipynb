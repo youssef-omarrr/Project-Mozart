{
 "cells": [
  {
   "cell_type": "code",
   "execution_count": 4,
   "id": "207ee92f",
   "metadata": {},
   "outputs": [
    {
     "name": "stdout",
     "output_type": "stream",
     "text": [
      "Generated prompt: <|startofpiece|><NAME=please work><BPM=120><DURATION_BEATS=1200><DURATION_MINUTES=10.00><TRACKS>Piano: <MASK> <TRACKSEP> Guitar: <MASK>\n",
      "Generated text: <|startofpiece|><NAME=please work><BPM=120><DURATION_BEATS=1200><DURATION_MINUTES=10.00><TRACKS>Guitar: G5_q Rest_1/3 D5_0 G3_0 E4_0 C#4_q C#13_0 E5_1\n",
      "Found 1 instrument matches\n",
      "Added guitar: ['G5_q', 'Rest_1/3', 'D5_0', 'G3_0', 'E4_0', 'C#4_q', 'C#13_0', 'E5_1']\n",
      "Saved piece to ../example_outputs/model_output/piece_17.txt with 1 tracks\n"
     ]
    }
   ],
   "source": [
    "from utils import generate_text\n",
    "\n",
    "prompt = \"generate a piece named please work that is around 10 minute long using 120 bpm using piano and 2 instruments\"\n",
    "\n",
    "output = generate_text(prompt)"
   ]
  },
  {
   "cell_type": "code",
   "execution_count": 5,
   "id": "5e08f939",
   "metadata": {},
   "outputs": [
    {
     "name": "stdout",
     "output_type": "stream",
     "text": [
      "Loading data from: ../example_outputs/model_output/piece_17.txt\n",
      "-------------------------------------------------------\n",
      "Song name: please work, BPM: 120.0\n",
      "-------------------------------------------------------\n",
      "Input data contains 1 instruments:\n",
      "  - guitar: 8 tokens\n",
      "-------------------------------------------------------\n",
      "Creating part for: guitar\n",
      "  -> Using instrument: AcousticGuitar (Program 24: Acoustic Guitar (nylon))\n",
      "  -> Added 8 notes/rests\n",
      "Score created with 1 parts\n",
      "-------------------------------------------------------\n",
      "Instrument program mapping used:\n",
      "  guitar: Program 24\n",
      "=======================================================\n",
      "\u001b[92mSuccessfully decoded and saved audio as ../example_outputs/model_output\\please_work_13.wav \n",
      "with bpm = 120.0\u001b[0m\n",
      "=======================================================\n",
      "\n",
      "\n"
     ]
    },
    {
     "data": {
      "text/plain": [
       "'../example_outputs/model_output\\\\please_work_13.wav'"
      ]
     },
     "execution_count": 5,
     "metadata": {},
     "output_type": "execute_result"
    }
   ],
   "source": [
    "from decoder import decode_to_audio\n",
    "decode_to_audio(output)"
   ]
  },
  {
   "cell_type": "code",
   "execution_count": null,
   "id": "e8182738",
   "metadata": {},
   "outputs": [],
   "source": []
  }
 ],
 "metadata": {
  "kernelspec": {
   "display_name": ".venv",
   "language": "python",
   "name": "python3"
  },
  "language_info": {
   "codemirror_mode": {
    "name": "ipython",
    "version": 3
   },
   "file_extension": ".py",
   "mimetype": "text/x-python",
   "name": "python",
   "nbconvert_exporter": "python",
   "pygments_lexer": "ipython3",
   "version": "3.10.5"
  }
 },
 "nbformat": 4,
 "nbformat_minor": 5
}
