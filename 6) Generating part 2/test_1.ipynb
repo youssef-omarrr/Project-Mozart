{
 "cells": [
  {
   "cell_type": "code",
   "execution_count": 1,
   "id": "207ee92f",
   "metadata": {},
   "outputs": [
    {
     "name": "stdout",
     "output_type": "stream",
     "text": [
      "Generated prompt: <|startofpiece|><NAME=please work><BPM=120><DURATION_BEATS=1200><DURATION_MINUTES=10.00><TRACKS>Violin: <MASK> <TRACKSEP> Guitar: <MASK> <TRACKSEP> Piano: <MASK> <TRACKSEP> Clarinet: <MASK> <TRACKSEP> Flute: <MASK>\n",
      "Generated text: <|startofpiece|><NAME=please work><BPM=120><DURATION_BEATS=1200><DURATION_MINUTES=10.00><TRACKS>Violin: <MASK> <TRACKSEP> Guitar: <MASK> <TRACKSEP> Piano: <MASK> <TRACKSEP> Clarinet: <MASK> <TRACKSEP> Flute: <MASK> E-5_s Rest_s A5_e Rest_1/3 A4(A5_q Rest_q A6_s Rest_0.75 G#5_h B4,G#5_s Rest_2.25 A5_q F#5._s Rest__s C5_s Rest_1.25 F#5_q D5_q Rest_1 (B4_q B4_q C7_s Rest_e E5_s Rest_0\n",
      "Rest_s A5D4_e Rest_{e B4_w Rest_w C5_w Rest[F#C5_s Rest_s A5_s Res/E-5_s Rest_s E5_s Rest_s D5_.A5_s Rest_s B4_q Rest_q Rest_0;3 Rest_1/12 Rest_1/8 Rest::Q Rest_e Rest_e Rest_e Rest+C5_e Rest_e Rest_e Rest_e Rest_e Rest_9/11 A5_s Rest_s D5_s Rest_s D5_s M5_s R5S_s Rest_1/3 Rest_1/? A5_q Rest_e Rest_e Rest_e Rest_e Rest_e Rest<3/6 Rest_1/16 Rest_1/(24) Rest_1/60 Rest_s A5_e Rest_e Rest_e Rest_e Rest_e The best of C5_q A5_e Rest_1//13 Rest_1/30 Rest_1/36 Rest^3/64 Rest_1/48 Rest_1/\"12/35 Rest_1/80 Rest_1/128 Rest_e Rest_e Rest_e Rest_e Rest_e Rest_e Rest . B4_q Rest_q Rest_e Rest _3.50 Rest_1/27 Rest_1/70 Rest_1/100 Rest_1/144 Rest_s Rest_s Rest_s Rest_s Rest{e G#5_e Rest_q Rest_e Rest_e Rest_e Rest_a Rest_1.15 Rest_1/20 Rest_1/#40 Rest_e Rest_e Rest$ 1/32 Rest_1/65 Rest_2/14 Rest_1/45\n",
      "Found 0 instrument matches\n",
      "No tracks found with main pattern, trying alternative parsing...\n",
      "Alternative parsing added flute: ['E-5_s', 'Rest_s', 'A5_e', 'Rest_1/3', 'A4(A5_q', 'Rest_q', 'A6_s', 'Rest_0.75', 'G#5_h', 'B4,G#5_s', 'Rest_2.25', 'A5_q', 'F#5._s', 'Rest__s', 'C5_s', 'Rest_1.25', 'F#5_q', 'D5_q', 'Rest_1', '(B4_q', 'B4_q', 'C7_s', 'Rest_e', 'E5_s', 'Rest_0', 'Rest_s', 'A5D4_e', 'Rest_{e', 'B4_w', 'Rest_w', 'C5_w', 'Rest[F#C5_s', 'Rest_s', 'A5_s', 'Res/E-5_s', 'Rest_s', 'E5_s', 'Rest_s', 'D5_.A5_s', 'Rest_s', 'B4_q', 'Rest_q', 'Rest_0;3', 'Rest_1/12', 'Rest_1/8', 'Rest::Q', 'Rest_e', 'Rest_e', 'Rest_e', 'Rest+C5_e', 'Rest_e', 'Rest_e', 'Rest_e', 'Rest_e', 'Rest_9/11', 'A5_s', 'Rest_s', 'D5_s', 'Rest_s', 'D5_s', 'M5_s', 'R5S_s', 'Rest_1/3', 'Rest_1/?', 'A5_q', 'Rest_e', 'Rest_e', 'Rest_e', 'Rest_e', 'Rest_e', 'Rest<3/6', 'Rest_1/16', 'Rest_1/(24)', 'Rest_1/60', 'Rest_s', 'A5_e', 'Rest_e', 'Rest_e', 'Rest_e', 'Rest_e', 'The', 'best', 'of', 'C5_q', 'A5_e', 'Rest_1//13', 'Rest_1/30', 'Rest_1/36', 'Rest^3/64', 'Rest_1/48', 'Rest_1/\"12/35', 'Rest_1/80', 'Rest_1/128', 'Rest_e', 'Rest_e', 'Rest_e', 'Rest_e', 'Rest_e', 'Rest_e', 'Rest', '.', 'B4_q', 'Rest_q', 'Rest_e', 'Rest', '_3.50', 'Rest_1/27', 'Rest_1/70', 'Rest_1/100', 'Rest_1/144', 'Rest_s', 'Rest_s', 'Rest_s', 'Rest_s', 'Rest{e', 'G#5_e', 'Rest_q', 'Rest_e', 'Rest_e', 'Rest_e', 'Rest_a', 'Rest_1.15', 'Rest_1/20', 'Rest_1/#40', 'Rest_e', 'Rest_e', 'Rest$', '1/32', 'Rest_1/65', 'Rest_2/14', 'Rest_1/45']\n",
      "Saved piece to ../example_outputs/model_output/piece_5.txt with 1 tracks\n"
     ]
    }
   ],
   "source": [
    "from utils import generate_text\n",
    "\n",
    "prompt = \"generate a piece named please work that is around 10 minute long using 120 bpm\"\n",
    "\n",
    "output = generate_text(prompt)"
   ]
  },
  {
   "cell_type": "code",
   "execution_count": 2,
   "id": "5e08f939",
   "metadata": {},
   "outputs": [
    {
     "name": "stdout",
     "output_type": "stream",
     "text": [
      "Loading data from: ../example_outputs/model_output/piece_5.txt\n",
      "-------------------------------------------------------\n",
      "Song name: please work, BPM: 120.0\n",
      "-------------------------------------------------------\n",
      "Input data contains 1 instruments:\n",
      "  - flute: 131 tokens\n",
      "-------------------------------------------------------\n",
      "Creating part for: flute\n",
      "  -> Using instrument: Flute (Program 73: Flute)\n",
      "  Warning: Could not process token 'A4(A5_q': (a is not a supported accidental type\n",
      "  Warning: Could not process token 'B4,G#5_s': ,g# is not a supported accidental type\n",
      "  Warning: Could not process token 'F#5._s': Cannot make a name out of ''\n",
      "  Warning: Could not process token 'Rest__s': Cannot make a step out of 'R'\n",
      "  Warning: Could not process token '(B4_q': Cannot make a step out of '('\n",
      "  Warning: Could not process token 'A5D4_e': d is not a supported accidental type\n",
      "  Warning: Could not process token 'Rest_{e': Unknown duration symbol: '{e' in token 'Rest_{e'\n",
      "  Warning: Could not process token 'Rest[F#C5_s': Cannot make a step out of 'R'\n",
      "  Warning: Could not process token 'Res/E-5_s': Cannot make a step out of 'R'\n",
      "  Warning: Could not process token 'D5_.A5_s': _ is not a supported accidental type\n",
      "  Warning: Could not process token 'Rest_0;3': Unknown duration symbol: '0;3' in token 'Rest_0;3'\n",
      "  Warning: Could not process token 'Rest::Q': Invalid token format: Rest::Q\n",
      "  Warning: Could not process token 'Rest+C5_e': Cannot make a step out of 'R'\n",
      "  Warning: Could not process token 'M5_s': Cannot make a step out of 'M'\n",
      "  Warning: Could not process token 'R5S_s': Cannot make a step out of 'R'\n",
      "  Warning: Could not process token 'Rest_1/?': Unknown duration symbol: '1/?' in token 'Rest_1/?'\n",
      "  Warning: Could not process token 'Rest<3/6': Invalid token format: Rest<3/6\n",
      "  Warning: Could not process token 'Rest_1/(24)': Unknown duration symbol: '1/(24)' in token 'Rest_1/(24)'\n",
      "  Warning: Could not process token 'The': Invalid token format: The\n",
      "  Warning: Could not process token 'best': Invalid token format: best\n",
      "  Warning: Could not process token 'of': Invalid token format: of\n",
      "  Warning: Could not process token 'Rest_1//13': Unknown duration symbol: '1//13' in token 'Rest_1//13'\n",
      "  Warning: Could not process token 'Rest^3/64': Invalid token format: Rest^3/64\n",
      "  Warning: Could not process token 'Rest_1/\"12/35': Unknown duration symbol: '1/\"12/35' in token 'Rest_1/\"12/35'\n",
      "  Warning: Could not process token 'Rest': Invalid token format: Rest\n",
      "  Warning: Could not process token '.': Invalid token format: .\n",
      "  Warning: Could not process token 'Rest': Invalid token format: Rest\n",
      "  Warning: Could not process token '_3.50': Cannot make a name out of ''\n",
      "  Warning: Could not process token 'Rest{e': Invalid token format: Rest{e\n",
      "  Warning: Could not process token 'Rest_a': Unknown duration symbol: 'a' in token 'Rest_a'\n",
      "  Warning: Could not process token 'Rest_1/#40': Unknown duration symbol: '1/#40' in token 'Rest_1/#40'\n",
      "  Warning: Could not process token 'Rest$': Invalid token format: Rest$\n",
      "  Warning: Could not process token '1/32': Invalid token format: 1/32\n",
      "  -> Added 98 notes/rests\n",
      "Score created with 1 parts\n",
      "-------------------------------------------------------\n",
      "Instrument program mapping used:\n",
      "  flute: Program 73\n",
      "=======================================================\n",
      "\u001b[92mSuccessfully decoded and saved audio as ../example_outputs/model_output\\please_work_5.wav \n",
      "with bpm = 120.0\u001b[0m\n",
      "=======================================================\n",
      "\n",
      "\n"
     ]
    },
    {
     "data": {
      "text/plain": [
       "'../example_outputs/model_output\\\\please_work_5.wav'"
      ]
     },
     "execution_count": 2,
     "metadata": {},
     "output_type": "execute_result"
    }
   ],
   "source": [
    "from decoder import decode_to_audio\n",
    "decode_to_audio(output)"
   ]
  }
 ],
 "metadata": {
  "kernelspec": {
   "display_name": ".venv",
   "language": "python",
   "name": "python3"
  },
  "language_info": {
   "codemirror_mode": {
    "name": "ipython",
    "version": 3
   },
   "file_extension": ".py",
   "mimetype": "text/x-python",
   "name": "python",
   "nbconvert_exporter": "python",
   "pygments_lexer": "ipython3",
   "version": "3.10.5"
  }
 },
 "nbformat": 4,
 "nbformat_minor": 5
}
