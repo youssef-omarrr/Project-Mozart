{
 "cells": [
  {
   "cell_type": "code",
   "execution_count": 8,
   "id": "207ee92f",
   "metadata": {},
   "outputs": [
    {
     "name": "stdout",
     "output_type": "stream",
     "text": [
      "Found 1648 musical tokens out of 51894 total\n",
      "Generated prompt: <|startofpiece|><NAME=please work><BPM=120><DURATION_BEATS=1200><DURATION_MINUTES=10.00><TRACKS>Piano: <MASK> <TRACKSEP> Guitar: <MASK>\n",
      "Generated text: <|startofpiece|><NAME=please work><BPM=120><DURATION_BEATS=1200><DURATION_MINUTES=10.00><TRACKS>Piano: <MASK> <TRACKSEP> Guitar: <MASK>                            F#5_2/3 A4-1/6             G#4,A4_1/12 C#5(G4)B-3/3  Rest_3/3          B-4_h         D5_1/?   E5_1/8             .                      *Rest_0.75    e              _                    1.25         (       )    :                       ---------------------        --------     -         |              !                ----------------- -----------------------      ---------             ,      ==================                                             ---------------------------------- -------------    0.125         Theophilus Khan                      Pianos of   ?                                    Tuba      ................  =              =====================================     \\                                 \n",
      "Found 0 instrument matches\n",
      "No tracks found with main pattern, trying alternative parsing...\n",
      "Alternative parsing added guitar: ['F#5_2/3', 'A4-1/6', 'G#4,A4_1/12', 'C#5(G4)B-3/3', 'Rest_3/3', 'B-4_h', 'D5_1/?', 'E5_1/8', '.', '*Rest_0.75', 'e', '_', '1.25', '(', ')', ':', '---------------------', '--------', '-', '|', '!', '-----------------', '-----------------------', '---------', ',', '==================', '----------------------------------', '-------------', '0.125', 'Theophilus', 'Khan', 'Pianos', 'of', '?', 'Tuba', '................', '=', '=====================================', '\\\\']\n",
      "Saved piece to ../example_outputs/model_output/piece_4.txt with 1 tracks\n"
     ]
    }
   ],
   "source": [
    "from utils import generate_text\n",
    "\n",
    "prompt = \"generate a piece named please work that is around 10 minute long using 120 bpm using piano and guitar\"\n",
    "\n",
    "output = generate_text(prompt)"
   ]
  },
  {
   "cell_type": "code",
   "execution_count": 6,
   "id": "5e08f939",
   "metadata": {},
   "outputs": [
    {
     "name": "stdout",
     "output_type": "stream",
     "text": [
      "Loading data from: ../example_outputs/model_output/piece_3.txt\n",
      "-------------------------------------------------------\n",
      "Song name: please work, BPM: 120.0\n",
      "-------------------------------------------------------\n",
      "Input data contains 1 instruments:\n",
      "  - guitar: 42 tokens\n",
      "-------------------------------------------------------\n",
      "Creating part for: guitar\n",
      "  -> Using instrument: AcousticGuitar (Program 24: Acoustic Guitar (nylon))\n",
      "  Warning: Could not process token '-------------': Invalid token format: -------------\n",
      "  Warning: Could not process token '_____': Unknown duration symbol: '' in token '_____'\n",
      "  Warning: Could not process token 'F#4/3': Invalid token format: F#4/3\n",
      "  Warning: Could not process token '.': Invalid token format: .\n",
      "  Warning: Could not process token 'B-6/?': Invalid token format: B-6/?\n",
      "  Warning: Could not process token 'E#5': Invalid token format: E#5\n",
      "  Warning: Could not process token '-': Invalid token format: -\n",
      "  Warning: Could not process token 'D5/3.': Invalid token format: D5/3.\n",
      "  Warning: Could not process token 'C#5': Invalid token format: C#5\n",
      "  Warning: Could not process token 'A4.': Invalid token format: A4.\n",
      "  Warning: Could not process token 'P5/.': Invalid token format: P5/.\n",
      "  Warning: Could not process token '!': Invalid token format: !\n",
      "  Warning: Could not process token ':': Invalid token format: :\n",
      "  Warning: Could not process token 'K5_1.75': Cannot make a step out of 'K'\n",
      "  Warning: Could not process token 'L5_0.<5><24>': Unknown duration symbol: '0.<5><24>' in token 'L5_0.<5><24>'\n",
      "  Warning: Could not process token 'e': Invalid token format: e\n",
      "  Warning: Could not process token 'H5_0.#5': Unknown duration symbol: '0.#5' in token 'H5_0.#5'\n",
      "  Warning: Could not process token 'M5__0.25': Cannot make a step out of 'M'\n",
      "  Warning: Could not process token 'w': Invalid token format: w\n",
      "  Warning: Could not process token 'i': Invalid token format: i\n",
      "  Warning: Could not process token '----------------': Invalid token format: ----------------\n",
      "  Warning: Could not process token '=': Invalid token format: =\n",
      "  Warning: Could not process token '--------------------': Invalid token format: --------------------\n",
      "  Warning: Could not process token '---------': Invalid token format: ---------\n",
      "  Warning: Could not process token '\\': Invalid token format: \\\n",
      "  Warning: Could not process token 'Y5_h': Cannot make a step out of 'Y'\n",
      "  Warning: Could not process token '*': Invalid token format: *\n",
      "  Warning: Could not process token '==============================': Invalid token format: ==============================\n",
      "  Warning: Could not process token '--------_': Unknown duration symbol: '' in token '--------_'\n",
      "  Warning: Could not process token '----------------------------------------------------------------------------------------------------------': Invalid token format: ----------------------------------------------------------------------------------------------------------\n",
      "  Warning: Could not process token '=====================================================================================================': Invalid token format: =====================================================================================================\n",
      "  Warning: Could not process token '_': Unknown duration symbol: '' in token '_'\n",
      "  Warning: Could not process token 'Sine-wave': Invalid token format: Sine-wave\n",
      "  Warning: Could not process token 'sine-3.0': Invalid token format: sine-3.0\n",
      "  Warning: Could not process token 'b3-.': Invalid token format: b3-.\n",
      "  Warning: Could not process token 'q': Invalid token format: q\n",
      "  Warning: Could not process token 'h4.-': Invalid token format: h4.-\n",
      "  Warning: Could not process token 'd4.': Invalid token format: d4.\n",
      "  -> Added 4 notes/rests\n",
      "Score created with 1 parts\n",
      "-------------------------------------------------------\n",
      "Instrument program mapping used:\n",
      "  guitar: Program 24\n",
      "=======================================================\n",
      "\u001b[92mSuccessfully decoded and saved audio as ../example_outputs/model_output\\please_work_3.wav \n",
      "with bpm = 120.0\u001b[0m\n",
      "=======================================================\n",
      "\n",
      "\n"
     ]
    },
    {
     "data": {
      "text/plain": [
       "'../example_outputs/model_output\\\\please_work_3.wav'"
      ]
     },
     "execution_count": 6,
     "metadata": {},
     "output_type": "execute_result"
    }
   ],
   "source": [
    "from decoder import decode_to_audio\n",
    "decode_to_audio(output)"
   ]
  },
  {
   "cell_type": "code",
   "execution_count": null,
   "id": "ec8321e0",
   "metadata": {},
   "outputs": [],
   "source": []
  }
 ],
 "metadata": {
  "kernelspec": {
   "display_name": ".venv",
   "language": "python",
   "name": "python3"
  },
  "language_info": {
   "codemirror_mode": {
    "name": "ipython",
    "version": 3
   },
   "file_extension": ".py",
   "mimetype": "text/x-python",
   "name": "python",
   "nbconvert_exporter": "python",
   "pygments_lexer": "ipython3",
   "version": "3.10.5"
  }
 },
 "nbformat": 4,
 "nbformat_minor": 5
}
