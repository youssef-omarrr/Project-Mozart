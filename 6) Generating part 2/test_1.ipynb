{
 "cells": [
  {
   "cell_type": "code",
   "execution_count": null,
   "id": "207ee92f",
   "metadata": {},
   "outputs": [],
   "source": [
    "from utils import generate_text\n",
    "\n",
    "prompt = \"generate a piece named wow that is around 10 minute long using 120 bpm from what you learned\"\n",
    "\n",
    "output = generate_text(prompt)"
   ]
  }
 ],
 "metadata": {
  "language_info": {
   "name": "python"
  }
 },
 "nbformat": 4,
 "nbformat_minor": 5
}
