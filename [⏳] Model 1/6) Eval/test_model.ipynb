{
 "cells": [
  {
   "cell_type": "code",
   "execution_count": 2,
   "id": "d1d0dfc6",
   "metadata": {},
   "outputs": [
    {
     "name": "stderr",
     "output_type": "stream",
     "text": [
      "You passed `num_labels=3` which is incompatible to the `id2label` map of length `2`.\n",
      "Some weights of BartForCausalLM were not initialized from the model checkpoint at lucadiliello/bart-small and are newly initialized: ['lm_head.weight', 'model.decoder.embed_tokens.weight']\n",
      "You should probably TRAIN this model on a down-stream task to be able to use it for predictions and inference.\n"
     ]
    },
    {
     "name": "stdout",
     "output_type": "stream",
     "text": [
      "Generated prompt: <|startofpiece|><NAME=11><BPM=120.0><DURATION_BEATS=1200><DURATION_MINUTES=10.0><TRACKS>Piano: <MASK><|endofpiece|>\n",
      "Generated text: <s><|startofpiece|><NAME=11><BPM=120.0><DURATION_BEATS=1200><DURATION_MINUTES=10.0><TRACKS>\n",
      "Found 0 instrument matches\n",
      "No tracks found with main pattern, trying alternative parsing...\n",
      "Saved piece to ../../example_outputs/model_output/piece_4.txt with 0 tracks\n"
     ]
    }
   ],
   "source": [
    "from generate_text import generate_text\n",
    "\n",
    "prompt = \"generate a piece named 11 that is around 10 minute long using 120 bpm using piano\"\n",
    "\n",
    "output = generate_text(prompt)"
   ]
  },
  {
   "cell_type": "code",
   "execution_count": null,
   "id": "dd0d02bd",
   "metadata": {},
   "outputs": [],
   "source": [
    "from decoder import decode_to_audio\n",
    "decode_to_audio(output)"
   ]
  }
 ],
 "metadata": {
  "kernelspec": {
   "display_name": ".venv",
   "language": "python",
   "name": "python3"
  },
  "language_info": {
   "codemirror_mode": {
    "name": "ipython",
    "version": 3
   },
   "file_extension": ".py",
   "mimetype": "text/x-python",
   "name": "python",
   "nbconvert_exporter": "python",
   "pygments_lexer": "ipython3",
   "version": "3.10.5"
  }
 },
 "nbformat": 4,
 "nbformat_minor": 5
}
