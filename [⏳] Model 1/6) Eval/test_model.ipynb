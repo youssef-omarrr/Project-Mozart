{
 "cells": [
  {
   "cell_type": "code",
   "execution_count": 1,
   "id": "d1d0dfc6",
   "metadata": {},
   "outputs": [
    {
     "name": "stderr",
     "output_type": "stream",
     "text": [
      "You passed `num_labels=3` which is incompatible to the `id2label` map of length `2`.\n",
      "Some weights of BartForCausalLM were not initialized from the model checkpoint at lucadiliello/bart-small and are newly initialized: ['lm_head.weight', 'model.decoder.embed_tokens.weight']\n",
      "You should probably TRAIN this model on a down-stream task to be able to use it for predictions and inference.\n"
     ]
    },
    {
     "name": "stdout",
     "output_type": "stream",
     "text": [
      "Generated prompt: <|startofpiece|><NAME=11><BPM=120.0><DURATION_BEATS=1200><DURATION_MINUTES=10.0><TRACKS>Piano: <MASK><|endofpiece|>\n",
      "Found 1 mask positions: [23]\n",
      "Position 23: predicted ' ' (ID: 1437)\n",
      "\n",
      "Generated text before cleaning: '<s><|startofpiece|><NAME=11><BPM=120.0><DURATION_BEATS=1200><DURATION_MINUTES=10.0><TRACKS>Piano:  <|endofpiece|></s>'\n",
      "\n",
      "Generated text after cleaning: <s><|startofpiece|><NAME=11><BPM=120.0><DURATION_BEATS=1200><DURATION_MINUTES=10.0><TRACKS>\n",
      "Found 0 instrument matches\n",
      "No tracks found with main pattern, trying alternative parsing...\n",
      "Saved piece to ../../example_outputs/model_output/piece_7.txt with 0 tracks\n"
     ]
    }
   ],
   "source": [
    "from generate_text import generate_text\n",
    "\n",
    "prompt = \"generate a piece named 11 that is around 10 minute long using 120 bpm using piano\"\n",
    "\n",
    "output = generate_text(prompt)"
   ]
  },
  {
   "cell_type": "code",
   "execution_count": 2,
   "id": "dd0d02bd",
   "metadata": {},
   "outputs": [
    {
     "name": "stdout",
     "output_type": "stream",
     "text": [
      "Loading data from: ../../example_outputs/model_output/piece_3.txt\n",
      "-------------------------------------------------------\n",
      "Song name: 11, BPM: 120.0\n",
      "-------------------------------------------------------\n",
      "Input data contains 0 instruments:\n",
      "-------------------------------------------------------\n",
      "Score created with 0 parts\n",
      "-------------------------------------------------------\n",
      "Instrument program mapping used:\n",
      "=======================================================\n",
      "\u001b[92mSuccessfully decoded and saved audio as ../example_outputs/model_output\\11_3.wav \n",
      "with bpm = 120.0\u001b[0m\n",
      "=======================================================\n",
      "\n",
      "\n"
     ]
    },
    {
     "data": {
      "text/plain": [
       "'../example_outputs/model_output\\\\11_3.wav'"
      ]
     },
     "execution_count": 2,
     "metadata": {},
     "output_type": "execute_result"
    }
   ],
   "source": [
    "from decoder import decode_to_audio\n",
    "decode_to_audio(output)"
   ]
  }
 ],
 "metadata": {
  "kernelspec": {
   "display_name": ".venv",
   "language": "python",
   "name": "python3"
  },
  "language_info": {
   "codemirror_mode": {
    "name": "ipython",
    "version": 3
   },
   "file_extension": ".py",
   "mimetype": "text/x-python",
   "name": "python",
   "nbconvert_exporter": "python",
   "pygments_lexer": "ipython3",
   "version": "3.10.5"
  }
 },
 "nbformat": 4,
 "nbformat_minor": 5
}
