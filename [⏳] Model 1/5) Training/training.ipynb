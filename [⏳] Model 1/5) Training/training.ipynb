{
 "cells": [
  {
   "cell_type": "code",
   "execution_count": 1,
   "id": "044dac59",
   "metadata": {},
   "outputs": [
    {
     "name": "stderr",
     "output_type": "stream",
     "text": [
      "The new embeddings will be initialized from a multivariate normal distribution that has old embeddings' mean and covariance. As described in this article: https://nlp.stanford.edu/~johnhew/vocab-expansion.html. To disable this, use `mean_resizing=False`\n"
     ]
    },
    {
     "name": "stdout",
     "output_type": "stream",
     "text": [
      "Loaded model in trining mode.....\n",
      "Trainable params: 884,736 / 161,671,680 (0.55%)\n"
     ]
    }
   ],
   "source": [
    "from load_model_tokenizer import load_model_and_tokenizer\n",
    "\n",
    "model, tokenizer = load_model_and_tokenizer(for_training= True)"
   ]
  },
  {
   "cell_type": "code",
   "execution_count": null,
   "id": "3456fb20",
   "metadata": {},
   "outputs": [
    {
     "name": "stdout",
     "output_type": "stream",
     "text": [
      "Using mask token '<MASK>' with ID: 50269\n",
      "\n",
      "Processing train split...\n"
     ]
    },
    {
     "data": {
      "application/vnd.jupyter.widget-view+json": {
       "model_id": "10e222ac76754f4da65ae28a214f03c4",
       "version_major": 2,
       "version_minor": 0
      },
      "text/plain": [
       "Building train features:   0%|          | 0/19252 [00:00<?, ? examples/s]"
      ]
     },
     "metadata": {},
     "output_type": "display_data"
    },
    {
     "name": "stdout",
     "output_type": "stream",
     "text": [
      "\n",
      "Processing test split...\n"
     ]
    },
    {
     "data": {
      "application/vnd.jupyter.widget-view+json": {
       "model_id": "5519a3aa7c234d0588e8655592f04ba2",
       "version_major": 2,
       "version_minor": 0
      },
      "text/plain": [
       "Building test features:   0%|          | 0/4814 [00:00<?, ? examples/s]"
      ]
     },
     "metadata": {},
     "output_type": "display_data"
    },
    {
     "name": "stdout",
     "output_type": "stream",
     "text": [
      "Train samples: 19252\n",
      "Test samples: 4814\n",
      "\n",
      "Tokenizer vocab_size: 50265, added tokens: 27826, total: 78091\n",
      "Found 27812 music token IDs\n",
      "Found 27812 music token IDs\n",
      "\n",
      "Initialized MusicTokenEnforcementLoss with 27812 valid music token IDs\n",
      "Model vocab size: 78091\n",
      "Found space token: 'Ġ' (ID: 1437)\n",
      "Space token ID: 1437\n",
      "Special token: <|startofpiece|> (ID: 50265)\n",
      "Special token: <|endofpiece|> (ID: 50266)\n",
      "Special token: <TRACKS> (ID: 50267)\n",
      "Special token: <TRACKSEP> (ID: 50268)\n",
      "Special token: <NAME= (ID: 50270)\n",
      "Special token: <BPM= (ID: 50271)\n",
      "Special token: <DURATION_BEATS= (ID: 50272)\n",
      "Special token: <DURATION_MINUTES= (ID: 50273)\n",
      "Special token: <MASK> (ID: 50269)\n",
      "Found 52 rest tokens\n",
      "Always allowed tokens: 2\n",
      "\n",
      "🧪 TESTING LOSS FUNCTION ON FIRST BATCH:\n",
      "Updated model vocab size to: 78086\n",
      "Test loss: 9015.2129\n",
      "Test components: {'ce_loss': 10.239447593688965, 'non_music_penalty': 9004.9736328125, 'non_music_predictions': 3}\n",
      "Predictions breakdown:\n",
      "  Music tokens: 0/3 (0.0%)\n",
      "  </s> tokens: 0/3 (0.0%)\n",
      "  Other tokens: 3/3 (100.0%)\n",
      "First 10 predictions:\n",
      "  0: '_' (OTHER)\n",
      "  1: '_' (OTHER)\n",
      "  2: '</s>' (OTHER)\n",
      "================================================================================\n"
     ]
    },
    {
     "data": {
      "application/vnd.jupyter.widget-view+json": {
       "model_id": "d3bc9eab46ce41c4927b2c546413db65",
       "version_major": 2,
       "version_minor": 0
      },
      "text/plain": [
       "Epoch 1/5 [Train]:   0%|          | 0/9626 [00:00<?, ?it/s]"
      ]
     },
     "metadata": {},
     "output_type": "display_data"
    },
    {
     "name": "stdout",
     "output_type": "stream",
     "text": [
      "\n",
      "Step 0 predictions: Music=0/4, EOS=0/4\n"
     ]
    }
   ],
   "source": [
    "from retrain import train_lora\n",
    "\n",
    "metrics_history = train_lora(model, tokenizer)"
   ]
  },
  {
   "cell_type": "code",
   "execution_count": null,
   "id": "2ede64c9",
   "metadata": {},
   "outputs": [],
   "source": []
  }
 ],
 "metadata": {
  "kernelspec": {
   "display_name": ".venv",
   "language": "python",
   "name": "python3"
  },
  "language_info": {
   "codemirror_mode": {
    "name": "ipython",
    "version": 3
   },
   "file_extension": ".py",
   "mimetype": "text/x-python",
   "name": "python",
   "nbconvert_exporter": "python",
   "pygments_lexer": "ipython3",
   "version": "3.10.5"
  }
 },
 "nbformat": 4,
 "nbformat_minor": 5
}
