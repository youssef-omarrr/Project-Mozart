{
 "cells": [
  {
   "cell_type": "code",
   "execution_count": 1,
   "id": "b97fdeca",
   "metadata": {},
   "outputs": [],
   "source": [
    "from encoder import encode\n",
    "from decoder import decode_to_audio"
   ]
  },
  {
   "cell_type": "code",
   "execution_count": 3,
   "id": "1b1e5fd9",
   "metadata": {},
   "outputs": [
    {
     "name": "stdout",
     "output_type": "stream",
     "text": [
      "Processing MIDI file: 240ALC~1.MID\n",
      "-------------------------------------------------------\n",
      "Score title: None\n",
      "Total instruments detected: 4\n",
      "Note: 3 instruments may use duplicate programs\n",
      "Estimated 4755.5 beats based on 9511 notes\n",
      "Estimated length: 8.31 minutes\n",
      "=======================================================\n",
      "\u001b[92mData saved to ../dataset/text\\240ALC_1_1.txt \n",
      "with bpm = 132.0\u001b[0m\n",
      "=======================================================\n",
      "\n",
      "\n",
      "Loading data from: ../dataset/text\\240ALC_1_1.txt\n",
      "-------------------------------------------------------\n",
      "Song name: 240ALC~1, BPM: 132.0\n",
      "-------------------------------------------------------\n",
      "Score created with 4 parts\n",
      "=======================================================\n",
      "\u001b[92mSuccessfully decoded and saved audio as ../example_outputs/decoder_testing\\240ALC_1_1.wav \n",
      "with bpm = 132.0\u001b[0m\n",
      "=======================================================\n",
      "\n",
      "\n"
     ]
    }
   ],
   "source": [
    "test_1 = \"../dataset/audio/240ALC~1.MID\"\n",
    "\n",
    "output_txt = encode(test_1, print_details=False)\n",
    "\n",
    "_ = decode_to_audio(output_txt, print_details=False)"
   ]
  },
  {
   "cell_type": "code",
   "execution_count": null,
   "id": "208d0e10",
   "metadata": {},
   "outputs": [],
   "source": []
  }
 ],
 "metadata": {
  "kernelspec": {
   "display_name": ".venv",
   "language": "python",
   "name": "python3"
  },
  "language_info": {
   "codemirror_mode": {
    "name": "ipython",
    "version": 3
   },
   "file_extension": ".py",
   "mimetype": "text/x-python",
   "name": "python",
   "nbconvert_exporter": "python",
   "pygments_lexer": "ipython3",
   "version": "3.10.5"
  }
 },
 "nbformat": 4,
 "nbformat_minor": 5
}
