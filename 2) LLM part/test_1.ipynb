{
 "cells": [
  {
   "cell_type": "code",
   "execution_count": 1,
   "id": "b97fdeca",
   "metadata": {},
   "outputs": [],
   "source": [
    "from encoder import encode\n",
    "from decoder import decode_to_audio"
   ]
  },
  {
   "cell_type": "code",
   "execution_count": 2,
   "id": "1b1e5fd9",
   "metadata": {},
   "outputs": [
    {
     "name": "stdout",
     "output_type": "stream",
     "text": [
      "Processing MIDI file: mozart-clarinet-concerto-2-piano-and-clarinet.mid\n",
      "-------------------------------------------------------\n",
      "Score title: None\n",
      "Total instruments detected: 2\n",
      "All instruments have unique program assignments\n",
      "\n",
      "Duration: 2093.75 beats, 4492.79 seconds\n",
      "=======================================================\n",
      "\u001b[92mData saved to ../dataset/text\\mozart-clarinet-concerto-2-piano-and-clarinet_3.txt, with bpm = 44.32\u001b[0m\n",
      "=======================================================\n",
      "\n",
      "\n",
      "Loading data from: ../dataset/text\\mozart-clarinet-concerto-2-piano-and-clarinet_3.txt\n",
      "-------------------------------------------------------\n",
      "Song name: mozart-clarinet-concerto-2-piano-and-clarinet, BPM: 44.32\n",
      "Estimated duration: 2093.75 beats (~4492.79 seconds)\n",
      "-------------------------------------------------------\n",
      "Score created with 2 parts\n",
      "-------------------------------------------------------\n",
      "=======================================================\n",
      "\u001b[92mSuccessfully decoded and saved audio as ../example_outputs/decoder_testing\\mozart-clarinet-concerto-2-piano-and-clarinet_3.wav with bpm = 44.32\u001b[0m\n",
      "=======================================================\n",
      "\n",
      "\n"
     ]
    }
   ],
   "source": [
    "test_1 = \"../test_data/mozart-clarinet-concerto-2-piano-and-clarinet.mid\"\n",
    "\n",
    "output_txt = encode(test_1, print_details=False)\n",
    "\n",
    "_ = decode_to_audio(output_txt, print_details=False)"
   ]
  }
 ],
 "metadata": {
  "kernelspec": {
   "display_name": ".venv",
   "language": "python",
   "name": "python3"
  },
  "language_info": {
   "codemirror_mode": {
    "name": "ipython",
    "version": 3
   },
   "file_extension": ".py",
   "mimetype": "text/x-python",
   "name": "python",
   "nbconvert_exporter": "python",
   "pygments_lexer": "ipython3",
   "version": "3.10.5"
  }
 },
 "nbformat": 4,
 "nbformat_minor": 5
}
