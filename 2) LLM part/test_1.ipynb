{
 "cells": [
  {
   "cell_type": "code",
   "execution_count": 1,
   "id": "b97fdeca",
   "metadata": {},
   "outputs": [],
   "source": [
    "from encoder import encode\n",
    "from decoder import decode_to_audio"
   ]
  },
  {
   "cell_type": "code",
   "execution_count": 3,
   "id": "1b1e5fd9",
   "metadata": {},
   "outputs": [
    {
     "name": "stdout",
     "output_type": "stream",
     "text": [
      "Processing MIDI file: k520.mid\n",
      "-------------------------------------------------------\n",
      "Score title: None\n",
      "Part #1 -> 'Clarinet' (Program 71: Clarinet)\n",
      "  |__ 161 notes/rests converted to tokens\n",
      "Part #2 -> 'Piano' (Program 0: Acoustic Grand Piano)\n",
      "  |__ 252 notes/rests converted to tokens\n",
      "Part #3 -> 'Piano_2' (Program 0: Acoustic Grand Piano)\n",
      "  |__ 161 notes/rests converted to tokens\n",
      "Total instruments detected: 3\n",
      "Note: 1 instruments may use duplicate programs\n",
      "=======================================================\n",
      "\u001b[92mData saved to ../dataset/text\\k520_2.txt, with bpm = 60.0\u001b[0m\n",
      "=======================================================\n",
      "\n",
      "\n",
      "Loading data from: ../dataset/text\\k520_2.txt\n",
      "-------------------------------------------------------\n",
      "Song name: k520, BPM: 60.0\n",
      "-------------------------------------------------------\n",
      "Input data contains 3 instruments:\n",
      "  - Clarinet: 161 tokens\n",
      "  - Piano: 252 tokens\n",
      "  - Piano_2: 161 tokens\n",
      "-------------------------------------------------------\n",
      "Creating part for: Clarinet\n",
      "  -> Using instrument: Clarinet (Program 71: Clarinet)\n",
      "  -> Added 161 notes/rests\n",
      "Creating part for: Piano\n",
      "  -> Using instrument: Piano (Program 0: Acoustic Grand Piano)\n",
      "  -> Added 252 notes/rests\n",
      "Creating part for: Piano_2\n",
      "  -> Using instrument: Piano (Program 1: Bright Acoustic Piano)\n",
      "  -> Added 161 notes/rests\n",
      "Score created with 3 parts\n",
      "-------------------------------------------------------\n",
      "Instrument program mapping used:\n",
      "  Clarinet: Program 71\n",
      "  Piano: Program 0\n",
      "  Piano_2: Program 1\n",
      "=======================================================\n",
      "\u001b[92mSuccessfully decoded and saved audio as ../dataset/audio\\k520_2.wav with bpm = 60.0\u001b[0m\n",
      "=======================================================\n",
      "\n",
      "\n"
     ]
    }
   ],
   "source": [
    "test_1 = \"../test_data/k520.mid\"\n",
    "\n",
    "output_txt = encode(test_1)\n",
    "\n",
    "_ = decode_to_audio(output_txt, print_details=True)"
   ]
  }
 ],
 "metadata": {
  "kernelspec": {
   "display_name": ".venv",
   "language": "python",
   "name": "python3"
  },
  "language_info": {
   "codemirror_mode": {
    "name": "ipython",
    "version": 3
   },
   "file_extension": ".py",
   "mimetype": "text/x-python",
   "name": "python",
   "nbconvert_exporter": "python",
   "pygments_lexer": "ipython3",
   "version": "3.10.5"
  }
 },
 "nbformat": 4,
 "nbformat_minor": 5
}
