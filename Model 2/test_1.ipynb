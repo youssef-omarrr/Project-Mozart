{
 "cells": [
  {
   "cell_type": "code",
   "execution_count": null,
   "id": "5f4f62fa",
   "metadata": {},
   "outputs": [
    {
     "name": "stderr",
     "output_type": "stream",
     "text": [
      "Tokenizing MIDI files: 100%|██████████| 182/182 [00:12<00:00, 14.34it/s]\n"
     ]
    },
    {
     "name": "stdout",
     "output_type": "stream",
     "text": [
      "Vocab size: 276\n",
      "First sequence: [4, 190, 56, 108, 128, 32, 105, 127, 196, 56, 108, 127, 44, 102, 126, 202, 63, 115, 127, 48]\n"
     ]
    },
    {
     "name": "stderr",
     "output_type": "stream",
     "text": [
      "Tokenizing MIDI files: 100%|██████████| 182/182 [00:11<00:00, 15.80it/s]\n",
      "Creating dataset: 100%|██████████| 182/182 [00:08<00:00, 21.66it/s]\n"
     ]
    }
   ],
   "source": [
    "from create_data import create_dataset_and_dataloader\n",
    "\n",
    "dataset, train_loader, val_loader, vocab_size, int_seqs = create_dataset_and_dataloader()"
   ]
  },
  {
   "cell_type": "code",
   "execution_count": 2,
   "id": "248ca238",
   "metadata": {},
   "outputs": [],
   "source": [
    "from miditok import REMI\n",
    "\n",
    "# Choose a tokenizer\n",
    "tokenizer = REMI()"
   ]
  },
  {
   "cell_type": "code",
   "execution_count": 3,
   "id": "5e428950",
   "metadata": {},
   "outputs": [
    {
     "ename": "UnboundLocalError",
     "evalue": "local variable 'vocab_size' referenced before assignment",
     "output_type": "error",
     "traceback": [
      "\u001b[1;31m---------------------------------------------------------------------------\u001b[0m",
      "\u001b[1;31mUnboundLocalError\u001b[0m                         Traceback (most recent call last)",
      "Cell \u001b[1;32mIn[3], line 5\u001b[0m\n\u001b[0;32m      2\u001b[0m \u001b[38;5;28;01mfrom\u001b[39;00m\u001b[38;5;250m \u001b[39m\u001b[38;5;21;01mtrain_model\u001b[39;00m\u001b[38;5;250m \u001b[39m\u001b[38;5;28;01mimport\u001b[39;00m train\n\u001b[0;32m      4\u001b[0m model \u001b[38;5;241m=\u001b[39m MusicTransformer(vocab_size)\n\u001b[1;32m----> 5\u001b[0m \u001b[43mtrain\u001b[49m\u001b[43m(\u001b[49m\n\u001b[0;32m      6\u001b[0m \u001b[43m    \u001b[49m\u001b[43mmodel\u001b[49m\u001b[43m,\u001b[49m\n\u001b[0;32m      7\u001b[0m \u001b[43m    \u001b[49m\u001b[43mtrain_loader\u001b[49m\u001b[43m,\u001b[49m\n\u001b[0;32m      8\u001b[0m \u001b[43m    \u001b[49m\u001b[43mval_loader\u001b[49m\u001b[43m,\u001b[49m\n\u001b[0;32m      9\u001b[0m \u001b[43m    \u001b[49m\u001b[43mtokenizer\u001b[49m\u001b[43m)\u001b[49m\n",
      "File \u001b[1;32md:\\Codess & Projects\\Project Mozart\\Model 2\\train_model.py:94\u001b[0m, in \u001b[0;36mtrain\u001b[1;34m(model, train_loader, val_loader, tokenizer, epochs, save_dir, learning_rate, warmup_steps, structural_weight)\u001b[0m\n\u001b[0;32m     92\u001b[0m valid_next_masks \u001b[38;5;241m=\u001b[39m {}\n\u001b[0;32m     93\u001b[0m \u001b[38;5;28;01mfor\u001b[39;00m current_type, next_types \u001b[38;5;129;01min\u001b[39;00m expected_transitions\u001b[38;5;241m.\u001b[39mitems():\n\u001b[1;32m---> 94\u001b[0m     mask \u001b[38;5;241m=\u001b[39m torch\u001b[38;5;241m.\u001b[39mzeros(\u001b[43mvocab_size\u001b[49m, device\u001b[38;5;241m=\u001b[39mdevice, dtype\u001b[38;5;241m=\u001b[39mtorch\u001b[38;5;241m.\u001b[39mbool)\n\u001b[0;32m     95\u001b[0m     \u001b[38;5;28;01mfor\u001b[39;00m token_id, token_name \u001b[38;5;129;01min\u001b[39;00m id_to_token\u001b[38;5;241m.\u001b[39mitems():\n\u001b[0;32m     96\u001b[0m         \u001b[38;5;28;01mif\u001b[39;00m \u001b[38;5;28many\u001b[39m(token_name\u001b[38;5;241m.\u001b[39mstartswith(\u001b[38;5;124mf\u001b[39m\u001b[38;5;124m\"\u001b[39m\u001b[38;5;132;01m{\u001b[39;00mt\u001b[38;5;132;01m}\u001b[39;00m\u001b[38;5;124m_\u001b[39m\u001b[38;5;124m\"\u001b[39m) \u001b[38;5;28;01mfor\u001b[39;00m t \u001b[38;5;129;01min\u001b[39;00m next_types):\n",
      "\u001b[1;31mUnboundLocalError\u001b[0m: local variable 'vocab_size' referenced before assignment"
     ]
    }
   ],
   "source": [
    "from create_model import MusicTransformer\n",
    "from train_model import train\n",
    "\n",
    "model = MusicTransformer(vocab_size)\n",
    "train(\n",
    "    model,\n",
    "    train_loader,\n",
    "    val_loader,\n",
    "    tokenizer)"
   ]
  },
  {
   "cell_type": "code",
   "execution_count": null,
   "id": "a073324a",
   "metadata": {},
   "outputs": [],
   "source": [
    "from generate import generate_with_rhythm\n",
    "\n",
    "generate_with_rhythm(model, tokenizer, max_len= 2000)"
   ]
  }
 ],
 "metadata": {
  "kernelspec": {
   "display_name": ".venv",
   "language": "python",
   "name": "python3"
  },
  "language_info": {
   "codemirror_mode": {
    "name": "ipython",
    "version": 3
   },
   "file_extension": ".py",
   "mimetype": "text/x-python",
   "name": "python",
   "nbconvert_exporter": "python",
   "pygments_lexer": "ipython3",
   "version": "3.10.5"
  }
 },
 "nbformat": 4,
 "nbformat_minor": 5
}
