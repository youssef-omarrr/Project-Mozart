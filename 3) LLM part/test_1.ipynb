{
 "cells": [
  {
   "cell_type": "markdown",
   "id": "222e463c",
   "metadata": {},
   "source": [
    "## TEST 1. Using `DistilGPT2 (82M)`"
   ]
  },
  {
   "cell_type": "code",
   "execution_count": 1,
   "id": "487a8f74",
   "metadata": {},
   "outputs": [],
   "source": [
    "from transformers import AutoTokenizer, AutoModelForCausalLM\n",
    "\n",
    "download_path = \"../MODELS/\"\n",
    "\n",
    "tokenizer = AutoTokenizer.from_pretrained(\n",
    "    \"distilbert/distilgpt2\",\n",
    "    cache_dir=download_path\n",
    ")"
   ]
  },
  {
   "cell_type": "markdown",
   "id": "1c96bf0c",
   "metadata": {},
   "source": [
    "## 1) Data preparation: convert JSON files → single-line text examples - `prepare_data.py`"
   ]
  },
  {
   "cell_type": "code",
   "execution_count": null,
   "id": "06d73201",
   "metadata": {},
   "outputs": [],
   "source": [
    "from prepare_data import creat_training_data\n",
    "\n",
    "## RUN ONLY ONCE\n",
    "# creat_training_data()"
   ]
  },
  {
   "cell_type": "markdown",
   "id": "b69fe63b",
   "metadata": {},
   "source": [
    "## 2) Tokenizer adjustments"
   ]
  },
  {
   "cell_type": "code",
   "execution_count": 3,
   "id": "bd0e9641",
   "metadata": {},
   "outputs": [
    {
     "data": {
      "text/plain": [
       "GPT2TokenizerFast(name_or_path='distilbert/distilgpt2', vocab_size=50257, model_max_length=1024, is_fast=True, padding_side='right', truncation_side='right', special_tokens={'bos_token': '<|endoftext|>', 'eos_token': '<|endoftext|>', 'unk_token': '<|endoftext|>'}, clean_up_tokenization_spaces=True),  added_tokens_decoder={\n",
       "\t50256: AddedToken(\"<|endoftext|>\", rstrip=False, lstrip=False, single_word=False, normalized=True, special=True),\n",
       "}"
      ]
     },
     "execution_count": 3,
     "metadata": {},
     "output_type": "execute_result"
    }
   ],
   "source": [
    "tokenizer"
   ]
  },
  {
   "cell_type": "code",
   "execution_count": 6,
   "id": "eef6e9d9",
   "metadata": {},
   "outputs": [
    {
     "data": {
      "text/plain": [
       "GPT2TokenizerFast(name_or_path='distilbert/distilgpt2', vocab_size=50257, model_max_length=1024, is_fast=True, padding_side='right', truncation_side='right', special_tokens={'bos_token': '<|startofpiece|>', 'eos_token': '<|endofpiece|>', 'unk_token': '<|endoftext|>', 'additional_special_tokens': ['<TRACKS>', '<TRACKSEP>', '<NAME=', '<BPM=', '<DURATION_BEATS=', '<DURATION_MINUTES=']}, clean_up_tokenization_spaces=True),  added_tokens_decoder={\n",
       "\t50256: AddedToken(\"<|endoftext|>\", rstrip=False, lstrip=False, single_word=False, normalized=True, special=True),\n",
       "\t50257: AddedToken(\"<|startofpiece|>\", rstrip=False, lstrip=False, single_word=False, normalized=False, special=True),\n",
       "\t50258: AddedToken(\"<|endofpiece|>\", rstrip=False, lstrip=False, single_word=False, normalized=False, special=True),\n",
       "\t50259: AddedToken(\"<TRACKS>\", rstrip=False, lstrip=False, single_word=False, normalized=False, special=True),\n",
       "\t50260: AddedToken(\"<TRACKSEP>\", rstrip=False, lstrip=False, single_word=False, normalized=False, special=True),\n",
       "\t50261: AddedToken(\"<NAME=\", rstrip=False, lstrip=False, single_word=False, normalized=False, special=True),\n",
       "\t50262: AddedToken(\"<BPM=\", rstrip=False, lstrip=False, single_word=False, normalized=False, special=True),\n",
       "\t50263: AddedToken(\"<DURATION_BEATS=\", rstrip=False, lstrip=False, single_word=False, normalized=False, special=True),\n",
       "\t50264: AddedToken(\"<DURATION_MINUTES=\", rstrip=False, lstrip=False, single_word=False, normalized=False, special=True),\n",
       "}"
      ]
     },
     "execution_count": 6,
     "metadata": {},
     "output_type": "execute_result"
    }
   ],
   "source": [
    "# Specify special tokens used in the data\n",
    "special_tokens = {\n",
    "    \"bos_token\": \"<|startofpiece|>\",\n",
    "    \"eos_token\": \"<|endofpiece|>\",\n",
    "    \"additional_special_tokens\": [\n",
    "        \"<TRACKS>\", \"<TRACKSEP>\", \"<NAME=\", \"<BPM=\", \"<DURATION_BEATS=\", \"<DURATION_MINUTES=\"\n",
    "    ],\n",
    "}\n",
    "\n",
    "# Add them to the tokenizer\n",
    "tokenizer.add_special_tokens( special_tokens )\n",
    "\n",
    "tokenizer\n"
   ]
  },
  {
   "cell_type": "markdown",
   "id": "503d6523",
   "metadata": {},
   "source": [
    "## 3) Training with LoRA (PEFT) - `train_lora.py`\n",
    "\n",
    "> - **LoRA (Low-Rank Adaptation)** is a specific technique within the broader field of **Parameter-Efficient Fine-Tuning (PEFT)** that significantly reduces the computational cost and memory requirements of fine-tuning large language models (LLMs)\n",
    "> - It works by **freezing** the **original** large model weights and **injecting small**, trainable \"low-rank\" matrices into its layers. These matrices decompose the weight updates into **two smaller matrices**, allowing for efficient training of only these **new parameters**, which can then be merged with the original weights to produce the adapted model. \n",
    "> - For a quick review about LoRA watch this: [**LoRA explained (and a bit about precision and quantization)**](https://www.youtube.com/watch?v=t509sv5MT0w&ab_channel=DeepFindr)"
   ]
  },
  {
   "cell_type": "markdown",
   "id": "962ce5d8",
   "metadata": {},
   "source": [
    "A **data collator** is a function or class that takes a batch of individual samples from a dataset (like tokenized text sequences, images, or audio) and assembles them into a format suitable for training a model.\n",
    "\n",
    "For example, in NLP with Hugging Face, a collator will:\n",
    "\n",
    "* **Pad sequences** so they’re the same length.\n",
    "* **Create attention masks**.\n",
    "* Optionally apply things like **masking for language modeling**.\n",
    "\n",
    "In short: **it standardizes raw samples into properly shaped batches for the model**.\n"
   ]
  },
  {
   "cell_type": "code",
   "execution_count": null,
   "id": "42ba22a3",
   "metadata": {},
   "outputs": [],
   "source": [
    "from train_lora import train_lora\n",
    "\n",
    "train_lora (tokenizer)"
   ]
  }
 ],
 "metadata": {
  "kernelspec": {
   "display_name": ".venv",
   "language": "python",
   "name": "python3"
  },
  "language_info": {
   "codemirror_mode": {
    "name": "ipython",
    "version": 3
   },
   "file_extension": ".py",
   "mimetype": "text/x-python",
   "name": "python",
   "nbconvert_exporter": "python",
   "pygments_lexer": "ipython3",
   "version": "3.10.5"
  }
 },
 "nbformat": 4,
 "nbformat_minor": 5
}
